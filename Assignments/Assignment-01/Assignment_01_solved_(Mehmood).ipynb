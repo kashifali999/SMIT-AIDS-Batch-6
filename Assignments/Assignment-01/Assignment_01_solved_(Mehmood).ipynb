{
 "cells": [
  {
   "cell_type": "markdown",
   "metadata": {
    "id": "CUdxU51J52Jc"
   },
   "source": [
    "# Topic: print()"
   ]
  },
  {
   "cell_type": "markdown",
   "metadata": {
    "id": "O4XtVMeN52Ji"
   },
   "source": [
    "1) Using the python print function print any string value, integer value, boolean value, float value in single print command"
   ]
  },
  {
   "cell_type": "code",
   "execution_count": 1,
   "metadata": {},
   "outputs": [
    {
     "name": "stdout",
     "output_type": "stream",
     "text": [
      "string 123 True 1.23\n"
     ]
    }
   ],
   "source": [
    "print(\"string\", 123, True, 1.23)"
   ]
  },
  {
   "cell_type": "markdown",
   "metadata": {
    "id": "iNinlTd052Jr"
   },
   "source": [
    "2) Using the python print function print hyphon(-) separated any string value, integer value, boolean value, float value in single print command"
   ]
  },
  {
   "cell_type": "code",
   "execution_count": 17,
   "metadata": {},
   "outputs": [
    {
     "name": "stdout",
     "output_type": "stream",
     "text": [
      "hello-10-True-10.5\n"
     ]
    }
   ],
   "source": [
    "print(\"hello\", 10, True, 10.5, sep=\"-\")"
   ]
  },
  {
   "cell_type": "markdown",
   "metadata": {
    "id": "4fNVS99O52Jt"
   },
   "source": [
    "3) Using the python print function print any string value, integer value, boolean value, float value in separate print command.\n",
    "But every value must be space separated and in single line"
   ]
  },
  {
   "cell_type": "code",
   "execution_count": 21,
   "metadata": {},
   "outputs": [
    {
     "name": "stdout",
     "output_type": "stream",
     "text": [
      "hi_there 123 True 2.35\n"
     ]
    }
   ],
   "source": [
    "print(\"hi_there\", 123, True, 2.35)"
   ]
  },
  {
   "cell_type": "markdown",
   "metadata": {
    "id": "akEUFstT52Jv"
   },
   "source": [
    "4) Can a python print function take no value to print???\n"
   ]
  },
  {
   "cell_type": "markdown",
   "metadata": {},
   "source": [
    "#### Yes the functino print() can be used by passing with no arguments and it will print an empty line. It is used to increase readability."
   ]
  },
  {
   "cell_type": "code",
   "execution_count": 28,
   "metadata": {},
   "outputs": [
    {
     "name": "stdout",
     "output_type": "stream",
     "text": [
      "\n"
     ]
    }
   ],
   "source": [
    "print()"
   ]
  },
  {
   "cell_type": "markdown",
   "metadata": {
    "id": "vFPOFKW_52Jx"
   },
   "source": [
    "# TOPIC :Variables in Python Operators"
   ]
  },
  {
   "cell_type": "markdown",
   "metadata": {
    "id": "AzBzVODl52Jy"
   },
   "source": [
    "5) One of my friends name is Mr. Ahmed. He is 30 years old.  He is a lawer by profession. He has done his bachelors in law in the year 2005. He is working with a reputable law firm 'The Himalya Associates' in Karachi since 2015.\n",
    "He is a handsome lawer with height of 5.10 feets and weight 70600g. His monthly income is Rs. 200k PKR.\n",
    "\n",
    "Note: Create variables from above text and also assign values from the text.  "
   ]
  },
  {
   "cell_type": "markdown",
   "metadata": {
    "id": "Uaf--v5S52J0"
   },
   "source": [
    "6)How many years has been to Mr. Ahmed after his bachelors degree? Create a variable that hold current year value and then subtract it from his passout year"
   ]
  },
  {
   "cell_type": "code",
   "execution_count": 56,
   "metadata": {},
   "outputs": [
    {
     "name": "stdout",
     "output_type": "stream",
     "text": [
      "It has been 19 years since Mr. Ahmed's bachelor's degree.\n"
     ]
    }
   ],
   "source": [
    "name = \"Ahmad\"\n",
    "age = 30\n",
    "profession = \"Lawyer\"\n",
    "bachelor_degree_year = 2005\n",
    "law_firm = \"The Himalya Associates\"\n",
    "location = \"Karachi\"\n",
    "years_with_firm = 2024-2005   #assuming the current year is 2024\n",
    "built = \"handsome\"\n",
    "height_feet = 5.10\n",
    "weight_grams = 70600\n",
    "monthly_income_pkr = 200000\n",
    "current_year = 2024\n",
    "time_since_bachelor_degree = current_year-bachelor_degree_year\n",
    "print(f\"It has been {time_since_bachelor_degree} years since Mr. Ahmed's bachelor's degree.\")"
   ]
  },
  {
   "cell_type": "markdown",
   "metadata": {
    "id": "SAQtVyvD52J1"
   },
   "source": [
    "7) How many years has Mr. Ahmed been working with law firm 'The Himalya Associates'. Create necesary variables and print the correct number of years in working in the firm"
   ]
  },
  {
   "cell_type": "code",
   "execution_count": 58,
   "metadata": {},
   "outputs": [
    {
     "name": "stdout",
     "output_type": "stream",
     "text": [
      "it has been 19 years Mr. Ahmed has been working with the Himalaya Associates\n"
     ]
    }
   ],
   "source": [
    "print(f\"it has been {years_with_firm} years Mr. Ahmed has been working with the Himalaya Associates\")"
   ]
  },
  {
   "cell_type": "markdown",
   "metadata": {
    "id": "Gnk1kIUj52J3"
   },
   "source": [
    "8)Convert the monthly income of Mr. Ahmed in dollars.  Create necesary variables and print the income in dollars."
   ]
  },
  {
   "cell_type": "code",
   "execution_count": 72,
   "metadata": {},
   "outputs": [
    {
     "name": "stdout",
     "output_type": "stream",
     "text": [
      "the monthly income of Ahmad is 714.29 USD\n"
     ]
    }
   ],
   "source": [
    "exchange_rate = 280\n",
    "monthly_income_usd = monthly_income_pkr/exchange_rate\n",
    "print(f\"the monthly income of Ahmad is {monthly_income_usd:.2f} USD\")"
   ]
  },
  {
   "cell_type": "markdown",
   "metadata": {
    "id": "Adx4oblF52J4"
   },
   "source": [
    "9) Check if the income in dollars is a float or integer value. if it is float, re-write the code so that income gets converted in integer. print the income in integer type value"
   ]
  },
  {
   "cell_type": "code",
   "execution_count": 35,
   "metadata": {},
   "outputs": [
    {
     "name": "stdout",
     "output_type": "stream",
     "text": [
      "the monthly income of Ahmad is 714 USD\n"
     ]
    }
   ],
   "source": [
    "if isinstance(monthly_income_usd, float):\n",
    "     monthly_income_usd = int(monthly_income_usd)\n",
    "print(f\"the monthly income of Ahmad is {monthly_income_usd:} USD\")"
   ]
  },
  {
   "cell_type": "raw",
   "metadata": {
    "id": "NcYepWgZ52J5"
   },
   "source": [
    "10) Print the type of Mr. Ahmed's weight. Convert the weight of Mr. Ahmed in kg so that weight must be a integer value."
   ]
  },
  {
   "cell_type": "code",
   "execution_count": 19,
   "metadata": {},
   "outputs": [
    {
     "name": "stdout",
     "output_type": "stream",
     "text": [
      " Type of Mr. Ahmed's weight: <class 'int'>\n",
      "Mr. Ahmed's weight in kg 70kg\n"
     ]
    }
   ],
   "source": [
    "# Example weight of Mr. Ahmed in pounds (you can change this to test)\n",
    "weight_grams = 70600\n",
    "# Print the type of Mr. Ahmed's weight\n",
    "print(f\" Type of Mr. Ahmed's weight:\", type(weight_grams))\n",
    "\n",
    "# Convert weight to kilograms (1 g = 0.001 kg)\n",
    "weight_in_kg = weight_grams * 0.001\n",
    "\n",
    "# Convert the weight in kg to an integer\n",
    "weight_in_kg = int(weight_in_kg)\n",
    "\n",
    "# Print Mr. Ahmed's weight in kg as an integer\n",
    "print(f\"Mr. Ahmed's weight in kg {weight_in_kg}kg\" )"
   ]
  },
  {
   "cell_type": "code",
   "execution_count": 1,
   "metadata": {
    "id": "05FU1XHw52J7"
   },
   "outputs": [],
   "source": [
    "#11) print the year of birth of Mr. Ahmed."
   ]
  },
  {
   "cell_type": "code",
   "execution_count": 23,
   "metadata": {
    "id": "paq_3Kg152J8"
   },
   "outputs": [
    {
     "name": "stdout",
     "output_type": "stream",
     "text": [
      " The birth year of Mr. Ahmad is 1994\n"
     ]
    }
   ],
   "source": [
    "#type your code here\n",
    "current_year = 2024\n",
    "Birth_Year = current_year-30\n",
    "print(f\" The birth year of Mr. Ahmad is {Birth_Year}\" )"
   ]
  },
  {
   "cell_type": "markdown",
   "metadata": {
    "id": "eWySSgh552J8"
   },
   "source": [
    "12) Can Rs. 100 be divided equally among 6 students?\n",
    "HINT: % operator (modulo)"
   ]
  },
  {
   "cell_type": "code",
   "execution_count": 31,
   "metadata": {
    "id": "X3ncSwJt52KA"
   },
   "outputs": [
    {
     "name": "stdout",
     "output_type": "stream",
     "text": [
      "No Rs. 100 can't be equally divided into 6 students\n"
     ]
    }
   ],
   "source": [
    "total_money = 100\n",
    "No_of_students = 6\n",
    "if total_money/No_of_students == 0:\n",
    "    print (\"Yes Rs. 100 can be equally divided into 6 students\")\n",
    "else: print (\"No Rs. 100 can't be equally divided into 6 students\")"
   ]
  }
 ],
 "metadata": {
  "colab": {
   "provenance": []
  },
  "kernelspec": {
   "display_name": "Python 3 (ipykernel)",
   "language": "python",
   "name": "python3"
  },
  "language_info": {
   "codemirror_mode": {
    "name": "ipython",
    "version": 3
   },
   "file_extension": ".py",
   "mimetype": "text/x-python",
   "name": "python",
   "nbconvert_exporter": "python",
   "pygments_lexer": "ipython3",
   "version": "3.12.7"
  }
 },
 "nbformat": 4,
 "nbformat_minor": 4
}
