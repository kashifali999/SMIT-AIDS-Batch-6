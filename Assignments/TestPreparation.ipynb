{
 "cells": [
  {
   "cell_type": "markdown",
   "id": "e042c71b-9c64-4abb-86dd-a545c6038be1",
   "metadata": {},
   "source": [
    "# Class 01"
   ]
  },
  {
   "cell_type": "code",
   "execution_count": 2,
   "id": "ca57fd08-d4be-4c0d-8795-7cf4cbcf1c11",
   "metadata": {},
   "outputs": [
    {
     "name": "stdout",
     "output_type": "stream",
     "text": [
      "Display string\n"
     ]
    }
   ],
   "source": [
    "print(\"Display string\")"
   ]
  },
  {
   "cell_type": "markdown",
   "id": "20dffef1-4341-4a6f-b0cd-33ae7754c283",
   "metadata": {},
   "source": [
    "# Class 02"
   ]
  },
  {
   "cell_type": "code",
   "execution_count": 5,
   "id": "46198c99-051e-45d3-8735-e334ef253050",
   "metadata": {},
   "outputs": [
    {
     "name": "stdout",
     "output_type": "stream",
     "text": [
      "Display 1st string\n"
     ]
    }
   ],
   "source": [
    "print(\"Display 1st string\")"
   ]
  },
  {
   "cell_type": "code",
   "execution_count": 7,
   "id": "385ce7c1-2de5-4453-b54c-ef20aaf4b150",
   "metadata": {},
   "outputs": [
    {
     "name": "stdout",
     "output_type": "stream",
     "text": [
      "Display string Display 2nd string\n"
     ]
    }
   ],
   "source": [
    "print(\"Display string\", \"Display 2nd string\")"
   ]
  },
  {
   "cell_type": "code",
   "execution_count": 9,
   "id": "fc722215-50c0-4c98-854a-2ae472a8c8f9",
   "metadata": {},
   "outputs": [
    {
     "name": "stdout",
     "output_type": "stream",
     "text": [
      "100\n"
     ]
    }
   ],
   "source": [
    "print(100)"
   ]
  },
  {
   "cell_type": "code",
   "execution_count": 11,
   "id": "17af53e3-19f1-40bb-b78f-a053664a68fa",
   "metadata": {},
   "outputs": [
    {
     "name": "stdout",
     "output_type": "stream",
     "text": [
      "100 200 300\n"
     ]
    }
   ],
   "source": [
    "print(100, 200, 300)"
   ]
  },
  {
   "cell_type": "code",
   "execution_count": 13,
   "id": "af63517a-e79f-4956-a1b7-8cdefbb46e14",
   "metadata": {},
   "outputs": [
    {
     "name": "stdout",
     "output_type": "stream",
     "text": [
      "100 String\n"
     ]
    }
   ],
   "source": [
    "print(100, \"String\")"
   ]
  },
  {
   "cell_type": "code",
   "execution_count": 15,
   "id": "ace03f63-7541-4ccc-9ed4-ec197599e78b",
   "metadata": {},
   "outputs": [
    {
     "name": "stdout",
     "output_type": "stream",
     "text": [
      "100#200#300\n"
     ]
    }
   ],
   "source": [
    "print(100, 200, 300, sep = \"#\")"
   ]
  },
  {
   "cell_type": "code",
   "execution_count": 17,
   "id": "275b3139-e5ff-46c5-9390-888a5d96e5af",
   "metadata": {},
   "outputs": [
    {
     "name": "stdout",
     "output_type": "stream",
     "text": [
      "23.2\n"
     ]
    }
   ],
   "source": [
    "print(23.2)"
   ]
  },
  {
   "cell_type": "code",
   "execution_count": 21,
   "id": "9518ae5c-ca32-4baf-8f92-16730a8daf2c",
   "metadata": {},
   "outputs": [
    {
     "name": "stdout",
     "output_type": "stream",
     "text": [
      "<class 'float'>\n"
     ]
    }
   ],
   "source": [
    "print(type(23.2))"
   ]
  },
  {
   "cell_type": "code",
   "execution_count": 23,
   "id": "783cc555-8637-4625-b023-57ab1affcae8",
   "metadata": {},
   "outputs": [
    {
     "data": {
      "text/plain": [
       "float"
      ]
     },
     "execution_count": 23,
     "metadata": {},
     "output_type": "execute_result"
    }
   ],
   "source": [
    "type(23.2)"
   ]
  },
  {
   "cell_type": "code",
   "execution_count": 25,
   "id": "93837e3b-7f6b-4711-9d5c-954cfc7865d6",
   "metadata": {},
   "outputs": [
    {
     "name": "stdout",
     "output_type": "stream",
     "text": [
      "<class 'bool'>\n"
     ]
    }
   ],
   "source": [
    "print(type(True))"
   ]
  },
  {
   "cell_type": "code",
   "execution_count": 29,
   "id": "087dd061-1eb6-4c14-b280-0a786584f7a9",
   "metadata": {},
   "outputs": [
    {
     "data": {
      "text/plain": [
       "'Variable'"
      ]
     },
     "execution_count": 29,
     "metadata": {},
     "output_type": "execute_result"
    }
   ],
   "source": [
    "VarAlpha = \"Variable\"\n",
    "VarAlpha"
   ]
  },
  {
   "cell_type": "code",
   "execution_count": 31,
   "id": "0d1fa7d4-cef5-48bf-b197-7ef9e2990bb2",
   "metadata": {},
   "outputs": [
    {
     "data": {
      "text/plain": [
       "300"
      ]
     },
     "execution_count": 31,
     "metadata": {},
     "output_type": "execute_result"
    }
   ],
   "source": [
    "VarNum = 300\n",
    "VarNum"
   ]
  },
  {
   "cell_type": "code",
   "execution_count": 33,
   "id": "52a2619c-32dd-45e4-b075-61758771bc6b",
   "metadata": {},
   "outputs": [
    {
     "data": {
      "text/plain": [
       "int"
      ]
     },
     "execution_count": 33,
     "metadata": {},
     "output_type": "execute_result"
    }
   ],
   "source": [
    "type(VarNum)"
   ]
  },
  {
   "cell_type": "code",
   "execution_count": 35,
   "id": "9ee606a5-2c9f-40e3-90de-fb0c16ea39e9",
   "metadata": {},
   "outputs": [
    {
     "data": {
      "text/plain": [
       "10"
      ]
     },
     "execution_count": 35,
     "metadata": {},
     "output_type": "execute_result"
    }
   ],
   "source": [
    "5 + 5"
   ]
  },
  {
   "cell_type": "code",
   "execution_count": 37,
   "id": "8810bcea-6d49-42c7-934f-87206e6cda89",
   "metadata": {},
   "outputs": [
    {
     "data": {
      "text/plain": [
       "5"
      ]
     },
     "execution_count": 37,
     "metadata": {},
     "output_type": "execute_result"
    }
   ],
   "source": [
    "10 - 5"
   ]
  },
  {
   "cell_type": "code",
   "execution_count": 39,
   "id": "e43b8552-6bee-47e7-8c51-16e9de81508d",
   "metadata": {},
   "outputs": [
    {
     "data": {
      "text/plain": [
       "25"
      ]
     },
     "execution_count": 39,
     "metadata": {},
     "output_type": "execute_result"
    }
   ],
   "source": [
    "5 * 5"
   ]
  },
  {
   "cell_type": "code",
   "execution_count": 41,
   "id": "b29901d2-04a6-4c72-80d3-9d7bf9e94906",
   "metadata": {},
   "outputs": [
    {
     "data": {
      "text/plain": [
       "2.0"
      ]
     },
     "execution_count": 41,
     "metadata": {},
     "output_type": "execute_result"
    }
   ],
   "source": [
    "10 / 5"
   ]
  },
  {
   "cell_type": "code",
   "execution_count": 43,
   "id": "1145b473-c91e-4596-8160-2fd25f4c653a",
   "metadata": {},
   "outputs": [
    {
     "data": {
      "text/plain": [
       "125"
      ]
     },
     "execution_count": 43,
     "metadata": {},
     "output_type": "execute_result"
    }
   ],
   "source": [
    "5 ** 3"
   ]
  },
  {
   "cell_type": "code",
   "execution_count": 45,
   "id": "a3bfbb38-946f-44c1-8152-d8ddab1d8530",
   "metadata": {},
   "outputs": [
    {
     "data": {
      "text/plain": [
       "3.3333333333333335"
      ]
     },
     "execution_count": 45,
     "metadata": {},
     "output_type": "execute_result"
    }
   ],
   "source": [
    "10 / 3"
   ]
  },
  {
   "cell_type": "code",
   "execution_count": 47,
   "id": "0a33e3ec-1fa8-4c0d-88ab-f06a4fda8293",
   "metadata": {},
   "outputs": [
    {
     "data": {
      "text/plain": [
       "3"
      ]
     },
     "execution_count": 47,
     "metadata": {},
     "output_type": "execute_result"
    }
   ],
   "source": [
    "10 // 3"
   ]
  },
  {
   "cell_type": "code",
   "execution_count": 55,
   "id": "53d4b1c5-c290-4406-84d1-687a0d7811eb",
   "metadata": {},
   "outputs": [
    {
     "data": {
      "text/plain": [
       "3.0"
      ]
     },
     "execution_count": 55,
     "metadata": {},
     "output_type": "execute_result"
    }
   ],
   "source": [
    "10.5 // 3"
   ]
  },
  {
   "cell_type": "code",
   "execution_count": 57,
   "id": "d74701ca-6175-4fa2-858e-b1cb958b5deb",
   "metadata": {},
   "outputs": [
    {
     "data": {
      "text/plain": [
       "1"
      ]
     },
     "execution_count": 57,
     "metadata": {},
     "output_type": "execute_result"
    }
   ],
   "source": [
    "10 % 3"
   ]
  },
  {
   "cell_type": "code",
   "execution_count": 59,
   "id": "e4717755-5c11-41ce-937d-a8d114eec9d3",
   "metadata": {},
   "outputs": [],
   "source": [
    "Total = 100\n",
    "Obtained = 80"
   ]
  },
  {
   "cell_type": "code",
   "execution_count": 63,
   "id": "201c8f24-5d30-4815-aa24-669f30ca1ad4",
   "metadata": {},
   "outputs": [
    {
     "data": {
      "text/plain": [
       "False"
      ]
     },
     "execution_count": 63,
     "metadata": {},
     "output_type": "execute_result"
    }
   ],
   "source": [
    "Total == Obtained"
   ]
  },
  {
   "cell_type": "code",
   "execution_count": 65,
   "id": "c35c540d-aca8-40f6-8855-60aaab6c94bd",
   "metadata": {},
   "outputs": [
    {
     "data": {
      "text/plain": [
       "True"
      ]
     },
     "execution_count": 65,
     "metadata": {},
     "output_type": "execute_result"
    }
   ],
   "source": [
    "Total != Obtained"
   ]
  },
  {
   "cell_type": "code",
   "execution_count": 67,
   "id": "aa72bfb7-1cbf-4aa4-9af6-51973cb49b3e",
   "metadata": {},
   "outputs": [
    {
     "data": {
      "text/plain": [
       "True"
      ]
     },
     "execution_count": 67,
     "metadata": {},
     "output_type": "execute_result"
    }
   ],
   "source": [
    "Total >= Obtained"
   ]
  },
  {
   "cell_type": "code",
   "execution_count": 69,
   "id": "74ceef83-5b1e-48e8-a27b-9c4e5c513940",
   "metadata": {},
   "outputs": [
    {
     "data": {
      "text/plain": [
       "False"
      ]
     },
     "execution_count": 69,
     "metadata": {},
     "output_type": "execute_result"
    }
   ],
   "source": [
    "Total <= Obtained"
   ]
  },
  {
   "cell_type": "code",
   "execution_count": 71,
   "id": "1cdfa73f-3f36-4ae7-92f4-ef6c9b76c83c",
   "metadata": {},
   "outputs": [
    {
     "name": "stdin",
     "output_type": "stream",
     "text": [
      "Tell your name Kashif\n"
     ]
    },
    {
     "data": {
      "text/plain": [
       "'Kashif'"
      ]
     },
     "execution_count": 71,
     "metadata": {},
     "output_type": "execute_result"
    }
   ],
   "source": [
    "input(\"Tell your name\")"
   ]
  },
  {
   "cell_type": "code",
   "execution_count": 73,
   "id": "c2eea9b6-752a-4508-8091-3aa850fbc42f",
   "metadata": {},
   "outputs": [
    {
     "name": "stdin",
     "output_type": "stream",
     "text": [
      "Please tell your name Kashif Ali\n"
     ]
    }
   ],
   "source": [
    "name = input(\"Please tell your name\")"
   ]
  },
  {
   "cell_type": "code",
   "execution_count": 75,
   "id": "e0d43484-a2b9-4146-afd2-e1e5cfb1b99d",
   "metadata": {},
   "outputs": [
    {
     "data": {
      "text/plain": [
       "str"
      ]
     },
     "execution_count": 75,
     "metadata": {},
     "output_type": "execute_result"
    }
   ],
   "source": [
    "type(name)"
   ]
  },
  {
   "cell_type": "code",
   "execution_count": 83,
   "id": "a0c0e60d-b8d1-4a26-856e-334953f5c39a",
   "metadata": {},
   "outputs": [
    {
     "name": "stdin",
     "output_type": "stream",
     "text": [
      "What is your age ? 39\n"
     ]
    }
   ],
   "source": [
    "age = int(input(\"What is your age ?\"))"
   ]
  },
  {
   "cell_type": "code",
   "execution_count": 85,
   "id": "2843e633-9ad4-4bd7-8d88-0355e1ac9c20",
   "metadata": {},
   "outputs": [
    {
     "data": {
      "text/plain": [
       "int"
      ]
     },
     "execution_count": 85,
     "metadata": {},
     "output_type": "execute_result"
    }
   ],
   "source": [
    "type(age)"
   ]
  },
  {
   "cell_type": "code",
   "execution_count": 87,
   "id": "afd39958-86a8-41ce-82ba-8eb35aee4ba5",
   "metadata": {},
   "outputs": [
    {
     "data": {
      "text/plain": [
       "50"
      ]
     },
     "execution_count": 87,
     "metadata": {},
     "output_type": "execute_result"
    }
   ],
   "source": [
    "age + 11"
   ]
  },
  {
   "cell_type": "code",
   "execution_count": 89,
   "id": "e75e7132-0ee7-46d4-9847-dea9e33e368f",
   "metadata": {},
   "outputs": [
    {
     "data": {
      "text/plain": [
       "39"
      ]
     },
     "execution_count": 89,
     "metadata": {},
     "output_type": "execute_result"
    }
   ],
   "source": [
    "age"
   ]
  },
  {
   "cell_type": "code",
   "execution_count": 105,
   "id": "0fb3d408-4318-4c0f-919c-600b12ff8bbb",
   "metadata": {},
   "outputs": [],
   "source": [
    "age += 1"
   ]
  },
  {
   "cell_type": "code",
   "execution_count": 107,
   "id": "8d61cb52-145e-40f9-b173-36f95dce5a25",
   "metadata": {},
   "outputs": [
    {
     "data": {
      "text/plain": [
       "43"
      ]
     },
     "execution_count": 107,
     "metadata": {},
     "output_type": "execute_result"
    }
   ],
   "source": [
    "age"
   ]
  },
  {
   "cell_type": "code",
   "execution_count": 117,
   "id": "af75cb9c-9249-4e04-97c2-974d32a817e8",
   "metadata": {},
   "outputs": [],
   "source": [
    "age -= 2"
   ]
  },
  {
   "cell_type": "code",
   "execution_count": 119,
   "id": "5cec9bdb-fb65-4a50-b42b-db05bba487f3",
   "metadata": {},
   "outputs": [
    {
     "data": {
      "text/plain": [
       "37"
      ]
     },
     "execution_count": 119,
     "metadata": {},
     "output_type": "execute_result"
    }
   ],
   "source": [
    "age"
   ]
  },
  {
   "cell_type": "code",
   "execution_count": 125,
   "id": "da15cbb7-1ddf-4b36-b857-5b49289e3c9e",
   "metadata": {},
   "outputs": [
    {
     "data": {
      "text/plain": [
       "296"
      ]
     },
     "execution_count": 125,
     "metadata": {},
     "output_type": "execute_result"
    }
   ],
   "source": [
    "age *= 2\n",
    "age"
   ]
  },
  {
   "cell_type": "code",
   "execution_count": 133,
   "id": "d2083e25-98b8-4038-a101-4d801de1f89b",
   "metadata": {},
   "outputs": [
    {
     "data": {
      "text/plain": [
       "18.5"
      ]
     },
     "execution_count": 133,
     "metadata": {},
     "output_type": "execute_result"
    }
   ],
   "source": [
    "age /= 2\n",
    "age"
   ]
  },
  {
   "cell_type": "markdown",
   "id": "62f651d0-f0f2-4127-b947-d4e24216a13d",
   "metadata": {},
   "source": [
    "# Class 03"
   ]
  },
  {
   "cell_type": "code",
   "execution_count": null,
   "id": "da11be50-667a-4309-89c9-fe77511316da",
   "metadata": {},
   "outputs": [],
   "source": []
  }
 ],
 "metadata": {
  "kernelspec": {
   "display_name": "Python 3 (ipykernel)",
   "language": "python",
   "name": "python3"
  },
  "language_info": {
   "codemirror_mode": {
    "name": "ipython",
    "version": 3
   },
   "file_extension": ".py",
   "mimetype": "text/x-python",
   "name": "python",
   "nbconvert_exporter": "python",
   "pygments_lexer": "ipython3",
   "version": "3.12.7"
  }
 },
 "nbformat": 4,
 "nbformat_minor": 5
}
