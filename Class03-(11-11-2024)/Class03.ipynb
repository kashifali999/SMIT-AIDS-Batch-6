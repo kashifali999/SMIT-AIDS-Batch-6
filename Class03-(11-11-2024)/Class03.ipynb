{
 "cells": [
  {
   "cell_type": "markdown",
   "id": "238c732e-d710-48da-a267-a11ab2fa8032",
   "metadata": {},
   "source": [
    "# Srting : Data in inverted commas\n",
    "#### String is class\n",
    "#### String is immutable (non changable)"
   ]
  },
  {
   "cell_type": "code",
   "execution_count": 104,
   "id": "456483ae-79b9-4921-87cc-546f227d2b09",
   "metadata": {},
   "outputs": [],
   "source": [
    "course = \"Artificial Intelligence\""
   ]
  },
  {
   "cell_type": "code",
   "execution_count": 106,
   "id": "2cd9b09e-808b-4237-80d5-d64890e717e4",
   "metadata": {},
   "outputs": [
    {
     "name": "stdout",
     "output_type": "stream",
     "text": [
      "<class 'str'>\n"
     ]
    }
   ],
   "source": [
    "# Print data type of a varible\n",
    "print(type(course))"
   ]
  },
  {
   "cell_type": "code",
   "execution_count": 108,
   "id": "3a99dc2f-01d7-4e02-a1d1-987feb8abb62",
   "metadata": {},
   "outputs": [
    {
     "data": {
      "text/plain": [
       "'Artificial intelligence'"
      ]
     },
     "execution_count": 108,
     "metadata": {},
     "output_type": "execute_result"
    }
   ],
   "source": [
    "course.capitalize()"
   ]
  },
  {
   "cell_type": "code",
   "execution_count": 110,
   "id": "99e324c2-e4c1-44eb-93b7-be56f26d97a5",
   "metadata": {},
   "outputs": [
    {
     "data": {
      "text/plain": [
       "'artificial intelligence'"
      ]
     },
     "execution_count": 110,
     "metadata": {},
     "output_type": "execute_result"
    }
   ],
   "source": [
    "course.casefold()"
   ]
  },
  {
   "cell_type": "code",
   "execution_count": 112,
   "id": "018f1b02-0198-4af9-8b17-137b24e683b6",
   "metadata": {},
   "outputs": [
    {
     "data": {
      "text/plain": [
       "'   Artificial Intelligence    '"
      ]
     },
     "execution_count": 112,
     "metadata": {},
     "output_type": "execute_result"
    }
   ],
   "source": [
    "course.center(30)"
   ]
  },
  {
   "cell_type": "code",
   "execution_count": 114,
   "id": "24d31f38-50ff-41f6-9471-733a35faf12e",
   "metadata": {},
   "outputs": [
    {
     "data": {
      "text/plain": [
       "4"
      ]
     },
     "execution_count": 114,
     "metadata": {},
     "output_type": "execute_result"
    }
   ],
   "source": [
    "course.count('i')"
   ]
  },
  {
   "cell_type": "code",
   "execution_count": 116,
   "id": "9c4f45a4-4a66-4dbe-a4e6-f3c7a2e34086",
   "metadata": {},
   "outputs": [
    {
     "data": {
      "text/plain": [
       "b'Artificial Intelligence'"
      ]
     },
     "execution_count": 116,
     "metadata": {},
     "output_type": "execute_result"
    }
   ],
   "source": [
    "course.encode()"
   ]
  },
  {
   "cell_type": "code",
   "execution_count": 118,
   "id": "345d8e68-4a81-4731-9b2d-b56ffdb3c712",
   "metadata": {},
   "outputs": [
    {
     "data": {
      "text/plain": [
       "True"
      ]
     },
     "execution_count": 118,
     "metadata": {},
     "output_type": "execute_result"
    }
   ],
   "source": [
    "course.endswith(\"e\")"
   ]
  },
  {
   "cell_type": "code",
   "execution_count": 120,
   "id": "a3872416-43cb-4b5b-82f7-1d345a876b9b",
   "metadata": {},
   "outputs": [],
   "source": [
    "course1 = \"Data \\t Science\""
   ]
  },
  {
   "cell_type": "code",
   "execution_count": 122,
   "id": "c64e81fe-5e00-49c9-8367-7e689416d5d1",
   "metadata": {},
   "outputs": [
    {
     "data": {
      "text/plain": [
       "'Data       Science'"
      ]
     },
     "execution_count": 122,
     "metadata": {},
     "output_type": "execute_result"
    }
   ],
   "source": [
    "course1.expandtabs(tabsize = 10)"
   ]
  },
  {
   "cell_type": "code",
   "execution_count": 124,
   "id": "907f0b0d-3675-4621-bfa6-1ac6bca79113",
   "metadata": {},
   "outputs": [
    {
     "data": {
      "text/plain": [
       "14"
      ]
     },
     "execution_count": 124,
     "metadata": {},
     "output_type": "execute_result"
    }
   ],
   "source": [
    "course.find(\"e\")"
   ]
  },
  {
   "cell_type": "code",
   "execution_count": 126,
   "id": "0db56394-fc61-4a2f-98e5-2915106ab4e7",
   "metadata": {},
   "outputs": [
    {
     "data": {
      "text/plain": [
       "4"
      ]
     },
     "execution_count": 126,
     "metadata": {},
     "output_type": "execute_result"
    }
   ],
   "source": [
    "course.find(\"f\", 0, 5)"
   ]
  },
  {
   "cell_type": "code",
   "execution_count": 128,
   "id": "35344938-b84a-417d-8681-89c5cb73b13c",
   "metadata": {},
   "outputs": [
    {
     "data": {
      "text/plain": [
       "'Wellcome to Python Programming'"
      ]
     },
     "execution_count": 128,
     "metadata": {},
     "output_type": "execute_result"
    }
   ],
   "source": [
    "course2 = \"Wellcome to {} Programming\"\n",
    "formatted_course2 = course2.format(\"Python\")\n",
    "formatted_course2"
   ]
  },
  {
   "cell_type": "code",
   "execution_count": 130,
   "id": "8d2998b7-ae76-4ab5-a0be-0c92459b9313",
   "metadata": {},
   "outputs": [
    {
     "data": {
      "text/plain": [
       "'Wellcome to Python Coding'"
      ]
     },
     "execution_count": 130,
     "metadata": {},
     "output_type": "execute_result"
    }
   ],
   "source": [
    "course3 = \"Wellcome to {} {}\"\n",
    "formatted_course3 = course3.format(\"Python\",\"Coding\")\n",
    "formatted_course3"
   ]
  },
  {
   "cell_type": "code",
   "execution_count": 132,
   "id": "853074d7-6201-4b5e-8f88-09d317921365",
   "metadata": {},
   "outputs": [
    {
     "data": {
      "text/plain": [
       "'Wellcome to Python Coding'"
      ]
     },
     "execution_count": 132,
     "metadata": {},
     "output_type": "execute_result"
    }
   ],
   "source": [
    "course4 = \"Wellcome to {language} {subject}\"\n",
    "formatted_course4 = course4.format(language=\"Python\", subject=\"Coding\")\n",
    "formatted_course4"
   ]
  },
  {
   "cell_type": "code",
   "execution_count": 134,
   "id": "717f37b7-4871-4260-ba07-0388b9d51c23",
   "metadata": {},
   "outputs": [
    {
     "name": "stdout",
     "output_type": "stream",
     "text": [
      "Welcome to Python Coding Programming\n"
     ]
    }
   ],
   "source": [
    "course5 = \"Welcome to {0} {2} {1}\"\n",
    "formatted_course5 = course5.format(\"Python\", \"Programming\", \"Coding\")\n",
    "print(formatted_course5)"
   ]
  },
  {
   "cell_type": "code",
   "execution_count": 136,
   "id": "73f0bd4e-fd92-4282-a9cd-40577afce18f",
   "metadata": {},
   "outputs": [
    {
     "data": {
      "text/plain": [
       "'ARTIFICIAL INTELLIGENCE'"
      ]
     },
     "execution_count": 136,
     "metadata": {},
     "output_type": "execute_result"
    }
   ],
   "source": [
    "course.upper()"
   ]
  },
  {
   "cell_type": "code",
   "execution_count": 138,
   "id": "38659206-690c-4189-acd6-32d69eeb93f6",
   "metadata": {},
   "outputs": [
    {
     "data": {
      "text/plain": [
       "'artificial intelligence'"
      ]
     },
     "execution_count": 138,
     "metadata": {},
     "output_type": "execute_result"
    }
   ],
   "source": [
    "course.lower()"
   ]
  },
  {
   "cell_type": "code",
   "execution_count": 140,
   "id": "3a07a334-cc99-4922-8ec0-8870699510f2",
   "metadata": {},
   "outputs": [
    {
     "data": {
      "text/plain": [
       "'Artificial Intelligence'"
      ]
     },
     "execution_count": 140,
     "metadata": {},
     "output_type": "execute_result"
    }
   ],
   "source": [
    "course.title()"
   ]
  },
  {
   "cell_type": "code",
   "execution_count": 142,
   "id": "d5e8819e-328f-4536-903c-7dd2260fcf27",
   "metadata": {},
   "outputs": [
    {
     "data": {
      "text/plain": [
       "4"
      ]
     },
     "execution_count": 142,
     "metadata": {},
     "output_type": "execute_result"
    }
   ],
   "source": [
    "course.count(\"i\")"
   ]
  },
  {
   "cell_type": "code",
   "execution_count": 144,
   "id": "428fdceb-c782-4fc4-8177-8534c59b0416",
   "metadata": {},
   "outputs": [
    {
     "data": {
      "text/plain": [
       "'Artificial Intelligence'"
      ]
     },
     "execution_count": 144,
     "metadata": {},
     "output_type": "execute_result"
    }
   ],
   "source": [
    "course"
   ]
  },
  {
   "cell_type": "code",
   "execution_count": 146,
   "id": "82dc0b87-1c64-4f35-b95a-b02f95ff0991",
   "metadata": {},
   "outputs": [
    {
     "data": {
      "text/plain": [
       "True"
      ]
     },
     "execution_count": 146,
     "metadata": {},
     "output_type": "execute_result"
    }
   ],
   "source": [
    "course.endswith(\"e\")"
   ]
  },
  {
   "cell_type": "code",
   "execution_count": 148,
   "id": "0281ff32-767c-4d82-b249-1ffd1c13b3ff",
   "metadata": {},
   "outputs": [
    {
     "data": {
      "text/plain": [
       "True"
      ]
     },
     "execution_count": 148,
     "metadata": {},
     "output_type": "execute_result"
    }
   ],
   "source": [
    "course.startswith(\"Ar\")"
   ]
  },
  {
   "cell_type": "code",
   "execution_count": 150,
   "id": "ca22095c-9b0d-455e-ba4c-08a472142b1f",
   "metadata": {},
   "outputs": [],
   "source": [
    "marks = \"100\""
   ]
  },
  {
   "cell_type": "code",
   "execution_count": 152,
   "id": "7d0adbe9-8783-4b1e-91af-83987279f053",
   "metadata": {},
   "outputs": [
    {
     "data": {
      "text/plain": [
       "True"
      ]
     },
     "execution_count": 152,
     "metadata": {},
     "output_type": "execute_result"
    }
   ],
   "source": [
    "marks.isalnum()"
   ]
  },
  {
   "cell_type": "code",
   "execution_count": 154,
   "id": "37e91ac0-2a87-4353-beaa-22795a176ae2",
   "metadata": {},
   "outputs": [
    {
     "data": {
      "text/plain": [
       "False"
      ]
     },
     "execution_count": 154,
     "metadata": {},
     "output_type": "execute_result"
    }
   ],
   "source": [
    "marks.islower()"
   ]
  },
  {
   "cell_type": "code",
   "execution_count": 156,
   "id": "6881a833-6655-4dd4-8e46-0d4a2bdf4228",
   "metadata": {},
   "outputs": [
    {
     "ename": "TypeError",
     "evalue": "from_bytes() missing required argument 'bytes' (pos 1)",
     "output_type": "error",
     "traceback": [
      "\u001b[1;31m---------------------------------------------------------------------------\u001b[0m",
      "\u001b[1;31mTypeError\u001b[0m                                 Traceback (most recent call last)",
      "Cell \u001b[1;32mIn[156], line 2\u001b[0m\n\u001b[0;32m      1\u001b[0m num \u001b[38;5;241m=\u001b[39m \u001b[38;5;241m100\u001b[39m\n\u001b[1;32m----> 2\u001b[0m num\u001b[38;5;241m.\u001b[39mfrom_bytes()\n",
      "\u001b[1;31mTypeError\u001b[0m: from_bytes() missing required argument 'bytes' (pos 1)"
     ]
    }
   ],
   "source": [
    "num = 100\n",
    "num.from_bytes()"
   ]
  },
  {
   "cell_type": "code",
   "execution_count": 158,
   "id": "b4dc271d-0573-48c2-9b44-7569226e8f4c",
   "metadata": {},
   "outputs": [
    {
     "data": {
      "text/plain": [
       "True"
      ]
     },
     "execution_count": 158,
     "metadata": {},
     "output_type": "execute_result"
    }
   ],
   "source": [
    "marks.isalnum()"
   ]
  },
  {
   "cell_type": "markdown",
   "id": "645cdae7-94b2-43b3-bb3c-58b2bd24da25",
   "metadata": {},
   "source": [
    "# String Concatenation : joining"
   ]
  },
  {
   "cell_type": "code",
   "execution_count": 161,
   "id": "64a49c15-2675-43e5-abaa-56482f1dcf0b",
   "metadata": {},
   "outputs": [],
   "source": [
    "first_name = \"Kashif\"\n",
    "second_name = \"Ali\""
   ]
  },
  {
   "cell_type": "code",
   "execution_count": 163,
   "id": "8f9dcd20-caa5-46e3-9d8b-64cfefc2bf6e",
   "metadata": {},
   "outputs": [
    {
     "data": {
      "text/plain": [
       "'KashifAli'"
      ]
     },
     "execution_count": 163,
     "metadata": {},
     "output_type": "execute_result"
    }
   ],
   "source": [
    "first_name + second_name"
   ]
  },
  {
   "cell_type": "code",
   "execution_count": 165,
   "id": "dd1064c6-9f16-439f-a9c9-7e45b7572c4d",
   "metadata": {},
   "outputs": [],
   "source": [
    "age = 30"
   ]
  },
  {
   "cell_type": "code",
   "execution_count": 171,
   "id": "1f888bb7-9cce-4c1e-bc10-33c385bc6988",
   "metadata": {},
   "outputs": [
    {
     "ename": "TypeError",
     "evalue": "can only concatenate str (not \"int\") to str",
     "output_type": "error",
     "traceback": [
      "\u001b[1;31m---------------------------------------------------------------------------\u001b[0m",
      "\u001b[1;31mTypeError\u001b[0m                                 Traceback (most recent call last)",
      "Cell \u001b[1;32mIn[171], line 1\u001b[0m\n\u001b[1;32m----> 1\u001b[0m first_name\u001b[38;5;241m+\u001b[39msecond_name\u001b[38;5;241m+\u001b[39mage\n",
      "\u001b[1;31mTypeError\u001b[0m: can only concatenate str (not \"int\") to str"
     ]
    }
   ],
   "source": [
    "first_name+second_name+age"
   ]
  },
  {
   "cell_type": "code",
   "execution_count": 173,
   "id": "a1a64135-97ac-4d40-a351-8cb27f49a543",
   "metadata": {},
   "outputs": [
    {
     "data": {
      "text/plain": [
       "'KashifAli30'"
      ]
     },
     "execution_count": 173,
     "metadata": {},
     "output_type": "execute_result"
    }
   ],
   "source": [
    "first_name+second_name+str(age)"
   ]
  },
  {
   "cell_type": "code",
   "execution_count": 217,
   "id": "30b313d2-024e-4511-a2bd-e33257bac85e",
   "metadata": {},
   "outputs": [
    {
     "name": "stdin",
     "output_type": "stream",
     "text": [
      "Please tell me your good name Kashif\n",
      "What is your father's name Riaz\n",
      "How old are you ? 40\n"
     ]
    },
    {
     "name": "stdout",
     "output_type": "stream",
     "text": [
      "Mr. Kashif S/O Riaz you are 40.0 old.\n"
     ]
    }
   ],
   "source": [
    "name = input(\"Please tell me your good name\")\n",
    "father_name = input(\"What is your father's name\")\n",
    "age = float(input(\"How old are you ?\")) \n",
    "print(\"Mr. \" + name + \" S/O \" + father_name + \" you are \" + str(age) + \" old.\")"
   ]
  },
  {
   "cell_type": "markdown",
   "id": "ae2f4c61-e564-450c-a192-e168b19cc42c",
   "metadata": {},
   "source": [
    "# String formating"
   ]
  },
  {
   "cell_type": "code",
   "execution_count": 224,
   "id": "3b3ef22f-3b47-47d3-859a-5e2d01999e45",
   "metadata": {},
   "outputs": [
    {
     "name": "stdout",
     "output_type": "stream",
     "text": [
      "Mr. Kashif S/O Riaz you are 40.0 old.\n"
     ]
    }
   ],
   "source": [
    "print(\"Mr. {} S/O {} you are {} old.\".format(name, father_name, age))"
   ]
  },
  {
   "cell_type": "code",
   "execution_count": 215,
   "id": "f619a729-a1d5-41a5-b9ec-cba1245da2da",
   "metadata": {},
   "outputs": [
    {
     "name": "stdout",
     "output_type": "stream",
     "text": [
      "Mr. Kashif S/O Riaz you are 40.0 old.\n"
     ]
    }
   ],
   "source": [
    "print(f\"Mr. {name} S/O {father_name} you are {str(age)} old.\")"
   ]
  },
  {
   "cell_type": "markdown",
   "id": "9393afe7-6ea3-4939-a11f-b12036e79ec3",
   "metadata": {},
   "source": [
    "# String indexing and slicing"
   ]
  },
  {
   "cell_type": "code",
   "execution_count": 95,
   "id": "3ec2e331-eb43-431f-b11e-7e1ef2d2ec50",
   "metadata": {},
   "outputs": [],
   "source": [
    "text = \"My name is Kashif Ali\" # single line double qoutes"
   ]
  },
  {
   "cell_type": "code",
   "execution_count": 97,
   "id": "fb7b841d-4b35-4e0c-b74c-167c4711d2a0",
   "metadata": {},
   "outputs": [],
   "source": [
    "text = 'My name is Kashif Ali' # single line single qoutes"
   ]
  },
  {
   "cell_type": "code",
   "execution_count": 99,
   "id": "1f172f51-efae-4e56-ba25-6cab4db149c9",
   "metadata": {},
   "outputs": [],
   "source": [
    "text = \"\"\"My name is Kashif Ali\"\"\" # multiple lines triple qoutes (double)"
   ]
  },
  {
   "cell_type": "code",
   "execution_count": 101,
   "id": "c92321cf-9867-4859-922f-d2d8b5f06fbb",
   "metadata": {},
   "outputs": [],
   "source": [
    "text = '''My name is Kashif Ali''' # multiple lines triple qoutes (single)"
   ]
  },
  {
   "cell_type": "markdown",
   "id": "cf874414-3d56-4fd6-be4e-01516bee38b8",
   "metadata": {},
   "source": [
    "#### Indexing\n",
    "- 0123456789\n",
    "- -1-2-3-4-5-6-7-8-9"
   ]
  },
  {
   "cell_type": "code",
   "execution_count": 1,
   "id": "2686ad00-4bb4-4f89-935e-3ea466b5b830",
   "metadata": {},
   "outputs": [],
   "source": [
    "text1 = \"Pakistan\""
   ]
  },
  {
   "cell_type": "code",
   "execution_count": 3,
   "id": "acf47d86-470b-4520-85ab-4338f8b7b2a7",
   "metadata": {},
   "outputs": [
    {
     "data": {
      "text/plain": [
       "8"
      ]
     },
     "execution_count": 3,
     "metadata": {},
     "output_type": "execute_result"
    }
   ],
   "source": [
    "len(text1)"
   ]
  },
  {
   "cell_type": "code",
   "execution_count": 4,
   "id": "fe9c8351-93f9-4b27-9349-abb398e4ffcf",
   "metadata": {},
   "outputs": [],
   "source": [
    "text2 = \"Zindabad\""
   ]
  },
  {
   "cell_type": "code",
   "execution_count": 5,
   "id": "eda6810b-fc44-4ec2-9777-f4801061195e",
   "metadata": {},
   "outputs": [
    {
     "data": {
      "text/plain": [
       "'d'"
      ]
     },
     "execution_count": 5,
     "metadata": {},
     "output_type": "execute_result"
    }
   ],
   "source": [
    "text2[3]"
   ]
  },
  {
   "cell_type": "code",
   "execution_count": 9,
   "id": "7a7a94f7-c367-415e-96c9-6374801bd3a3",
   "metadata": {},
   "outputs": [
    {
     "data": {
      "text/plain": [
       "'n'"
      ]
     },
     "execution_count": 9,
     "metadata": {},
     "output_type": "execute_result"
    }
   ],
   "source": [
    "text1[-1]"
   ]
  },
  {
   "cell_type": "markdown",
   "id": "a6009af0-172a-47ca-94db-7cfa6d00517c",
   "metadata": {},
   "source": [
    "# Slicing : sub string"
   ]
  },
  {
   "cell_type": "code",
   "execution_count": 125,
   "id": "f053f84d-fae7-4d46-be55-ac59fb37495b",
   "metadata": {},
   "outputs": [],
   "source": [
    "text9 = \"My name is Khan and I am not a terrorist\""
   ]
  },
  {
   "cell_type": "code",
   "execution_count": 129,
   "id": "e3bc66f3-1020-48f7-a4f0-1034953cd0d5",
   "metadata": {},
   "outputs": [
    {
     "data": {
      "text/plain": [
       "'y name'"
      ]
     },
     "execution_count": 129,
     "metadata": {},
     "output_type": "execute_result"
    }
   ],
   "source": [
    "text9[1:7] # [start : end]"
   ]
  },
  {
   "cell_type": "code",
   "execution_count": 131,
   "id": "74eaeef3-b157-4248-898a-782e0bb66303",
   "metadata": {},
   "outputs": [],
   "source": [
    "countary = \"Pakistan\""
   ]
  },
  {
   "cell_type": "code",
   "execution_count": 135,
   "id": "8ae7f602-2b00-4bdd-aeec-9844e829e467",
   "metadata": {},
   "outputs": [
    {
     "data": {
      "text/plain": [
       "'Pakist'"
      ]
     },
     "execution_count": 135,
     "metadata": {},
     "output_type": "execute_result"
    }
   ],
   "source": [
    "countary[0 : 6 : 1] # [start : end : step]"
   ]
  },
  {
   "cell_type": "code",
   "execution_count": 137,
   "id": "7da985a0-7fe0-4ca2-b9ea-c4b84218a687",
   "metadata": {},
   "outputs": [
    {
     "data": {
      "text/plain": [
       "'Pks'"
      ]
     },
     "execution_count": 137,
     "metadata": {},
     "output_type": "execute_result"
    }
   ],
   "source": [
    "countary[0 : 6 : 2]"
   ]
  },
  {
   "cell_type": "markdown",
   "id": "73928cee-6a2d-46cf-b181-a5fdaab1d6e4",
   "metadata": {},
   "source": [
    "# Python collection / Data structures\n",
    "- String\n",
    "- List\n",
    "- Tuple\n",
    "- Dictionary\n",
    "- Set"
   ]
  },
  {
   "cell_type": "markdown",
   "id": "3a62dc0a-e555-4106-8cf4-9412058788ee",
   "metadata": {},
   "source": [
    "# List\n",
    "- []\n",
    "- many values\n",
    "- many type values\n",
    "- mutable\n",
    "- index\n",
    "- slice \n",
    "- copy"
   ]
  },
  {
   "cell_type": "code",
   "execution_count": 140,
   "id": "80ca5d81-f674-4e47-85d5-1daa917e5b7f",
   "metadata": {},
   "outputs": [],
   "source": [
    "student = \"Ahmad\""
   ]
  },
  {
   "cell_type": "code",
   "execution_count": 144,
   "id": "ec16fab4-61ac-46a1-b681-474846e53108",
   "metadata": {},
   "outputs": [],
   "source": [
    "students = ['Kashif','Mehmood','Rashid','Shoaib','Saad']"
   ]
  },
  {
   "cell_type": "code",
   "execution_count": 148,
   "id": "2c37a22c-9a1c-447a-9959-5ce62bc2dbcb",
   "metadata": {},
   "outputs": [
    {
     "name": "stdout",
     "output_type": "stream",
     "text": [
      "<class 'list'>\n"
     ]
    }
   ],
   "source": [
    "print(type(students))"
   ]
  },
  {
   "cell_type": "code",
   "execution_count": 150,
   "id": "9d3e428d-aa1d-49ee-925a-5e67102d8a4e",
   "metadata": {},
   "outputs": [
    {
     "data": {
      "text/plain": [
       "'Shoaib'"
      ]
     },
     "execution_count": 150,
     "metadata": {},
     "output_type": "execute_result"
    }
   ],
   "source": [
    "students[3]"
   ]
  },
  {
   "cell_type": "code",
   "execution_count": 152,
   "id": "46f20f19-76a2-499e-adb7-066d2d23fed7",
   "metadata": {},
   "outputs": [
    {
     "data": {
      "text/plain": [
       "'Shoaib'"
      ]
     },
     "execution_count": 152,
     "metadata": {},
     "output_type": "execute_result"
    }
   ],
   "source": [
    "students[-2]"
   ]
  },
  {
   "cell_type": "code",
   "execution_count": null,
   "id": "38658877-5167-4dd4-9f08-6228d5dd451c",
   "metadata": {},
   "outputs": [],
   "source": []
  }
 ],
 "metadata": {
  "kernelspec": {
   "display_name": "Python 3 (ipykernel)",
   "language": "python",
   "name": "python3"
  },
  "language_info": {
   "codemirror_mode": {
    "name": "ipython",
    "version": 3
   },
   "file_extension": ".py",
   "mimetype": "text/x-python",
   "name": "python",
   "nbconvert_exporter": "python",
   "pygments_lexer": "ipython3",
   "version": "3.12.7"
  }
 },
 "nbformat": 4,
 "nbformat_minor": 5
}
