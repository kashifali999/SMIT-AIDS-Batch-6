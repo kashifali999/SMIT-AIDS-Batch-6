{
 "cells": [
  {
   "cell_type": "markdown",
   "id": "fe3c2246-4e70-41d0-aec2-2bff3fe40f6a",
   "metadata": {},
   "source": [
    "### List in List"
   ]
  },
  {
   "cell_type": "code",
   "execution_count": 43,
   "id": "8b675bb6-d974-4e3b-8e45-b490050b3562",
   "metadata": {},
   "outputs": [],
   "source": [
    "number = [1,2,3,4,5,[0,1,2,3,4,5,6],6,7]"
   ]
  },
  {
   "cell_type": "code",
   "execution_count": 45,
   "id": "514f3817-e3f5-4e34-873b-10781dff0bad",
   "metadata": {},
   "outputs": [
    {
     "data": {
      "text/plain": [
       "8"
      ]
     },
     "execution_count": 45,
     "metadata": {},
     "output_type": "execute_result"
    }
   ],
   "source": [
    "len(number)"
   ]
  },
  {
   "cell_type": "code",
   "execution_count": 47,
   "id": "335d75ca-1e69-44ea-9476-261c9bcfeba8",
   "metadata": {},
   "outputs": [
    {
     "data": {
      "text/plain": [
       "[0, 1, 2, 3, 4, 5, 6]"
      ]
     },
     "execution_count": 47,
     "metadata": {},
     "output_type": "execute_result"
    }
   ],
   "source": [
    "number[5]"
   ]
  },
  {
   "cell_type": "markdown",
   "id": "048347dc-375c-4413-9e8c-c1bc0cdc34b5",
   "metadata": {},
   "source": [
    "#### Access element of lisi inside list"
   ]
  },
  {
   "cell_type": "code",
   "execution_count": 50,
   "id": "52570e73-224f-4f13-9cf8-4701e755a5ee",
   "metadata": {},
   "outputs": [
    {
     "data": {
      "text/plain": [
       "1"
      ]
     },
     "execution_count": 50,
     "metadata": {},
     "output_type": "execute_result"
    }
   ],
   "source": [
    "number[5][1]"
   ]
  },
  {
   "cell_type": "markdown",
   "id": "1388cb00-ff74-4182-8ade-998ba0450d83",
   "metadata": {},
   "source": [
    "#### Add element in list at end"
   ]
  },
  {
   "cell_type": "code",
   "execution_count": 53,
   "id": "660f124a-181f-4f12-a482-85a7510f1837",
   "metadata": {},
   "outputs": [],
   "source": [
    "number.append(\"Pakistan\")"
   ]
  },
  {
   "cell_type": "code",
   "execution_count": 55,
   "id": "e4bc769c-0bab-46f4-95fa-01cdf781a8cd",
   "metadata": {},
   "outputs": [
    {
     "data": {
      "text/plain": [
       "[1, 2, 3, 4, 5, [0, 1, 2, 3, 4, 5, 6], 6, 7, 'Pakistan']"
      ]
     },
     "execution_count": 55,
     "metadata": {},
     "output_type": "execute_result"
    }
   ],
   "source": [
    "number"
   ]
  },
  {
   "cell_type": "code",
   "execution_count": 57,
   "id": "908abb13-743b-4d59-9909-21bad5bbeaab",
   "metadata": {},
   "outputs": [
    {
     "data": {
      "text/plain": [
       "'k'"
      ]
     },
     "execution_count": 57,
     "metadata": {},
     "output_type": "execute_result"
    }
   ],
   "source": [
    "number[-1][2]"
   ]
  },
  {
   "cell_type": "code",
   "execution_count": 59,
   "id": "c8196e4c-e6f7-4f4d-a8ad-64c2772c9861",
   "metadata": {},
   "outputs": [],
   "source": [
    "number[2] = \"second\""
   ]
  },
  {
   "cell_type": "code",
   "execution_count": 61,
   "id": "860f5436-c474-47b7-a877-20f0b49d9fa4",
   "metadata": {},
   "outputs": [
    {
     "data": {
      "text/plain": [
       "[1, 2, 'second', 4, 5, [0, 1, 2, 3, 4, 5, 6], 6, 7, 'Pakistan']"
      ]
     },
     "execution_count": 61,
     "metadata": {},
     "output_type": "execute_result"
    }
   ],
   "source": [
    "number"
   ]
  },
  {
   "cell_type": "markdown",
   "id": "8eaa33c0-865a-423d-ac06-6d352cd06de4",
   "metadata": {},
   "source": [
    "#### Access range of elements in list"
   ]
  },
  {
   "cell_type": "code",
   "execution_count": 64,
   "id": "1366d7ee-1262-4ec4-b6ae-9edc55b05b8c",
   "metadata": {},
   "outputs": [
    {
     "data": {
      "text/plain": [
       "'kis'"
      ]
     },
     "execution_count": 64,
     "metadata": {},
     "output_type": "execute_result"
    }
   ],
   "source": [
    "number[8][2:5]"
   ]
  },
  {
   "cell_type": "code",
   "execution_count": 66,
   "id": "37fecfb0-40fa-47fc-8d95-a3e5416423aa",
   "metadata": {},
   "outputs": [
    {
     "data": {
      "text/plain": [
       "'tsi'"
      ]
     },
     "execution_count": 66,
     "metadata": {},
     "output_type": "execute_result"
    }
   ],
   "source": [
    "number[-1][5:2:-1]"
   ]
  },
  {
   "cell_type": "markdown",
   "id": "76d9446a-4931-4d6f-bf68-fb48dcf4c99a",
   "metadata": {},
   "source": [
    "#### Dictionaries"
   ]
  },
  {
   "cell_type": "markdown",
   "id": "2c133c65-0bd8-4e69-9267-da9653714a65",
   "metadata": {},
   "source": [
    "### Dictionary\n",
    "- {key:value}\n",
    "- Mutable\n",
    "- Iterable\n",
    "- More descriptive than a list"
   ]
  },
  {
   "cell_type": "code",
   "execution_count": 70,
   "id": "3eb7bf1b-81a0-41aa-957f-b4cc69c7f129",
   "metadata": {},
   "outputs": [],
   "source": [
    "profile = {}"
   ]
  },
  {
   "cell_type": "code",
   "execution_count": 72,
   "id": "51a9e403-9a50-467f-ada7-c994fe7a1b7b",
   "metadata": {},
   "outputs": [
    {
     "name": "stdout",
     "output_type": "stream",
     "text": [
      "<class 'dict'>\n"
     ]
    }
   ],
   "source": [
    "print(type(profile))"
   ]
  },
  {
   "cell_type": "code",
   "execution_count": 74,
   "id": "8d1b5564-6eed-4c23-b150-9434d7904069",
   "metadata": {},
   "outputs": [
    {
     "data": {
      "text/plain": [
       "0"
      ]
     },
     "execution_count": 74,
     "metadata": {},
     "output_type": "execute_result"
    }
   ],
   "source": [
    "len(profile)"
   ]
  },
  {
   "cell_type": "code",
   "execution_count": 76,
   "id": "411d2b6f-d4e1-496c-a254-f256e362d110",
   "metadata": {},
   "outputs": [],
   "source": [
    "profile = {\"name\" : \"Kashif\", \"age\" : 39, \"Height\" : 1.76, \"Weight\" : 90, \"Qualification\" : \"Master\", 100 : [], 1.5 : {}}"
   ]
  },
  {
   "cell_type": "markdown",
   "id": "55cab472-c98b-431c-a8b0-f40e22164b54",
   "metadata": {},
   "source": [
    "Note: Keys can be string, int, tuple (anything which is immutable)\n",
    "\n",
    "Values: int, float, string, boolean, list, dictionary, tuple, set"
   ]
  },
  {
   "cell_type": "code",
   "execution_count": 79,
   "id": "76bddf63-e7df-42b8-a0cb-92e13e6f4417",
   "metadata": {},
   "outputs": [
    {
     "data": {
      "text/plain": [
       "7"
      ]
     },
     "execution_count": 79,
     "metadata": {},
     "output_type": "execute_result"
    }
   ],
   "source": [
    "len(profile)"
   ]
  },
  {
   "cell_type": "code",
   "execution_count": 81,
   "id": "183ff677-6117-45f5-9525-48fdbc321950",
   "metadata": {},
   "outputs": [],
   "source": [
    "profile.update()"
   ]
  },
  {
   "cell_type": "code",
   "execution_count": 83,
   "id": "28330b4b-1f2c-4598-bdf0-17886749b76c",
   "metadata": {},
   "outputs": [],
   "source": [
    "number = [1,2,3,4,5]"
   ]
  },
  {
   "cell_type": "code",
   "execution_count": 85,
   "id": "9fc73b04-e518-4de9-a98d-5211126eea44",
   "metadata": {},
   "outputs": [],
   "source": [
    "# Dictionary\n",
    "profile = {}"
   ]
  },
  {
   "cell_type": "code",
   "execution_count": 87,
   "id": "1b7b2e69-67f1-41ad-a1ac-7d0fe4466653",
   "metadata": {},
   "outputs": [],
   "source": [
    "#every thing which is immutable, can be a key"
   ]
  },
  {
   "cell_type": "markdown",
   "id": "7605064d-1e74-4bcb-bfcd-98a9a326a905",
   "metadata": {},
   "source": [
    "### Accessing Member in a dictionary"
   ]
  },
  {
   "cell_type": "code",
   "execution_count": 90,
   "id": "4d07cb28-6ed9-43a4-ac6e-3b2679e389fa",
   "metadata": {},
   "outputs": [
    {
     "ename": "KeyError",
     "evalue": "'age'",
     "output_type": "error",
     "traceback": [
      "\u001b[1;31m---------------------------------------------------------------------------\u001b[0m",
      "\u001b[1;31mKeyError\u001b[0m                                  Traceback (most recent call last)",
      "Cell \u001b[1;32mIn[90], line 1\u001b[0m\n\u001b[1;32m----> 1\u001b[0m profile[\u001b[38;5;124m\"\u001b[39m\u001b[38;5;124mage\u001b[39m\u001b[38;5;124m\"\u001b[39m]\n",
      "\u001b[1;31mKeyError\u001b[0m: 'age'"
     ]
    }
   ],
   "source": [
    "profile[\"age\"]"
   ]
  },
  {
   "cell_type": "code",
   "execution_count": 92,
   "id": "5c9a098f-73aa-4567-a4c7-9f1480e2c04f",
   "metadata": {},
   "outputs": [],
   "source": [
    "### Replace value in List"
   ]
  },
  {
   "cell_type": "markdown",
   "id": "0233ce16-c055-4e25-bd46-8639a9b0e79e",
   "metadata": {},
   "source": [
    "### Adding member in existing dictionary"
   ]
  },
  {
   "cell_type": "code",
   "execution_count": 95,
   "id": "6e3cdc64-ca3d-4691-985f-1a793415c74b",
   "metadata": {},
   "outputs": [],
   "source": [
    "profile[\"interest\"] = \"coding\""
   ]
  },
  {
   "cell_type": "code",
   "execution_count": 97,
   "id": "1dd0dd6b-145c-4245-b48b-8755e89b3243",
   "metadata": {},
   "outputs": [
    {
     "data": {
      "text/plain": [
       "{'interest': 'coding'}"
      ]
     },
     "execution_count": 97,
     "metadata": {},
     "output_type": "execute_result"
    }
   ],
   "source": [
    "profile"
   ]
  },
  {
   "cell_type": "code",
   "execution_count": 99,
   "id": "6c47a220-7685-4183-b020-0b0dfc3e1ec6",
   "metadata": {},
   "outputs": [
    {
     "data": {
      "text/plain": [
       "dict_keys(['interest'])"
      ]
     },
     "execution_count": 99,
     "metadata": {},
     "output_type": "execute_result"
    }
   ],
   "source": [
    "profile.keys()"
   ]
  },
  {
   "cell_type": "code",
   "execution_count": 101,
   "id": "78536f56-f31a-41e3-aae0-633df39529e3",
   "metadata": {},
   "outputs": [
    {
     "data": {
      "text/plain": [
       "dict_values(['coding'])"
      ]
     },
     "execution_count": 101,
     "metadata": {},
     "output_type": "execute_result"
    }
   ],
   "source": [
    "profile.values()"
   ]
  },
  {
   "cell_type": "code",
   "execution_count": 103,
   "id": "b5a194a0-22c2-43e0-ad11-da23bfddc884",
   "metadata": {},
   "outputs": [
    {
     "data": {
      "text/plain": [
       "dict_items([('interest', 'coding')])"
      ]
     },
     "execution_count": 103,
     "metadata": {},
     "output_type": "execute_result"
    }
   ],
   "source": [
    "profile.items()"
   ]
  },
  {
   "cell_type": "code",
   "execution_count": 105,
   "id": "09b5065a-861f-4990-a3c2-f3cfc8fc3018",
   "metadata": {},
   "outputs": [
    {
     "ename": "KeyError",
     "evalue": "'age'",
     "output_type": "error",
     "traceback": [
      "\u001b[1;31m---------------------------------------------------------------------------\u001b[0m",
      "\u001b[1;31mKeyError\u001b[0m                                  Traceback (most recent call last)",
      "Cell \u001b[1;32mIn[105], line 1\u001b[0m\n\u001b[1;32m----> 1\u001b[0m profile\u001b[38;5;241m.\u001b[39mpop(\u001b[38;5;124m\"\u001b[39m\u001b[38;5;124mage\u001b[39m\u001b[38;5;124m\"\u001b[39m)\n",
      "\u001b[1;31mKeyError\u001b[0m: 'age'"
     ]
    }
   ],
   "source": [
    "profile.pop(\"age\")"
   ]
  },
  {
   "cell_type": "code",
   "execution_count": 107,
   "id": "59963725-33bc-4aac-95d1-6bc74c76c17d",
   "metadata": {},
   "outputs": [
    {
     "data": {
      "text/plain": [
       "{'interest': 'coding'}"
      ]
     },
     "execution_count": 107,
     "metadata": {},
     "output_type": "execute_result"
    }
   ],
   "source": [
    "profile"
   ]
  },
  {
   "cell_type": "code",
   "execution_count": 109,
   "id": "53217b75-f984-4ce3-a911-4ad45ecb8387",
   "metadata": {},
   "outputs": [
    {
     "data": {
      "text/plain": [
       "('interest', 'coding')"
      ]
     },
     "execution_count": 109,
     "metadata": {},
     "output_type": "execute_result"
    }
   ],
   "source": [
    "profile.popitem()"
   ]
  },
  {
   "cell_type": "code",
   "execution_count": 111,
   "id": "747a90eb-def1-4c9f-b607-db1a308d77dc",
   "metadata": {},
   "outputs": [
    {
     "ename": "KeyError",
     "evalue": "'popitem(): dictionary is empty'",
     "output_type": "error",
     "traceback": [
      "\u001b[1;31m---------------------------------------------------------------------------\u001b[0m",
      "\u001b[1;31mKeyError\u001b[0m                                  Traceback (most recent call last)",
      "Cell \u001b[1;32mIn[111], line 1\u001b[0m\n\u001b[1;32m----> 1\u001b[0m profile\u001b[38;5;241m.\u001b[39mpopitem()\n",
      "\u001b[1;31mKeyError\u001b[0m: 'popitem(): dictionary is empty'"
     ]
    }
   ],
   "source": [
    "profile.popitem()"
   ]
  },
  {
   "cell_type": "code",
   "execution_count": 113,
   "id": "552a8b75-dd42-4ef5-b1a4-83e9f91d4776",
   "metadata": {},
   "outputs": [
    {
     "ename": "KeyError",
     "evalue": "'popitem(): dictionary is empty'",
     "output_type": "error",
     "traceback": [
      "\u001b[1;31m---------------------------------------------------------------------------\u001b[0m",
      "\u001b[1;31mKeyError\u001b[0m                                  Traceback (most recent call last)",
      "Cell \u001b[1;32mIn[113], line 1\u001b[0m\n\u001b[1;32m----> 1\u001b[0m profile\u001b[38;5;241m.\u001b[39mpopitem()\n",
      "\u001b[1;31mKeyError\u001b[0m: 'popitem(): dictionary is empty'"
     ]
    }
   ],
   "source": [
    "profile.popitem()"
   ]
  },
  {
   "cell_type": "code",
   "execution_count": 115,
   "id": "102cc2c9-9605-4f9d-8452-89918b79761e",
   "metadata": {},
   "outputs": [
    {
     "ename": "KeyError",
     "evalue": "'popitem(): dictionary is empty'",
     "output_type": "error",
     "traceback": [
      "\u001b[1;31m---------------------------------------------------------------------------\u001b[0m",
      "\u001b[1;31mKeyError\u001b[0m                                  Traceback (most recent call last)",
      "Cell \u001b[1;32mIn[115], line 1\u001b[0m\n\u001b[1;32m----> 1\u001b[0m profile\u001b[38;5;241m.\u001b[39mpopitem()\n",
      "\u001b[1;31mKeyError\u001b[0m: 'popitem(): dictionary is empty'"
     ]
    }
   ],
   "source": [
    "profile.popitem()"
   ]
  },
  {
   "cell_type": "code",
   "execution_count": 117,
   "id": "1f98fccd-469d-494e-8a70-13eb1c76fa37",
   "metadata": {},
   "outputs": [],
   "source": [
    "dict_2 = {\"subject\" : \"CS\", \"school\" : \"sarai mughal\"}"
   ]
  },
  {
   "cell_type": "code",
   "execution_count": 119,
   "id": "5ed0ad34-962c-4485-aa46-0d810fb594c4",
   "metadata": {},
   "outputs": [
    {
     "data": {
      "text/plain": [
       "{'subject': 'CS', 'school': 'sarai mughal'}"
      ]
     },
     "execution_count": 119,
     "metadata": {},
     "output_type": "execute_result"
    }
   ],
   "source": [
    "dict_2"
   ]
  },
  {
   "cell_type": "code",
   "execution_count": 121,
   "id": "85db54f2-0d15-4e71-b935-0af2747f1c80",
   "metadata": {},
   "outputs": [],
   "source": [
    "profile[\"ABC\"] = dict_2"
   ]
  },
  {
   "cell_type": "code",
   "execution_count": 123,
   "id": "909defbc-68bd-4bbb-b5a9-5d821935531d",
   "metadata": {},
   "outputs": [
    {
     "data": {
      "text/plain": [
       "{'ABC': {'subject': 'CS', 'school': 'sarai mughal'}}"
      ]
     },
     "execution_count": 123,
     "metadata": {},
     "output_type": "execute_result"
    }
   ],
   "source": [
    "profile"
   ]
  },
  {
   "cell_type": "code",
   "execution_count": 125,
   "id": "bad734aa-fb3b-4838-8496-e4795101519e",
   "metadata": {},
   "outputs": [],
   "source": [
    "profile.update(dict_2)"
   ]
  },
  {
   "cell_type": "code",
   "execution_count": 127,
   "id": "2c99584d-f4a0-4f74-8418-ba7506b0785f",
   "metadata": {},
   "outputs": [
    {
     "data": {
      "text/plain": [
       "{'ABC': {'subject': 'CS', 'school': 'sarai mughal'},\n",
       " 'subject': 'CS',\n",
       " 'school': 'sarai mughal'}"
      ]
     },
     "execution_count": 127,
     "metadata": {},
     "output_type": "execute_result"
    }
   ],
   "source": [
    "profile"
   ]
  },
  {
   "cell_type": "code",
   "execution_count": 129,
   "id": "41eb036b-87cb-4b50-9c6a-eaf965c89c96",
   "metadata": {},
   "outputs": [],
   "source": [
    "del profile[\"ABC\"]"
   ]
  },
  {
   "cell_type": "code",
   "execution_count": 131,
   "id": "c14488a6-07de-4b49-9d8b-e6ef1c08192c",
   "metadata": {},
   "outputs": [
    {
     "data": {
      "text/plain": [
       "{'subject': 'CS', 'school': 'sarai mughal'}"
      ]
     },
     "execution_count": 131,
     "metadata": {},
     "output_type": "execute_result"
    }
   ],
   "source": [
    "profile"
   ]
  },
  {
   "cell_type": "code",
   "execution_count": 133,
   "id": "40e2861a-308c-4b1b-99f2-4d7bd15ffba3",
   "metadata": {},
   "outputs": [
    {
     "ename": "NameError",
     "evalue": "name 'ABC' is not defined",
     "output_type": "error",
     "traceback": [
      "\u001b[1;31m---------------------------------------------------------------------------\u001b[0m",
      "\u001b[1;31mNameError\u001b[0m                                 Traceback (most recent call last)",
      "Cell \u001b[1;32mIn[133], line 1\u001b[0m\n\u001b[1;32m----> 1\u001b[0m ABC\n",
      "\u001b[1;31mNameError\u001b[0m: name 'ABC' is not defined"
     ]
    }
   ],
   "source": [
    "ABC"
   ]
  },
  {
   "cell_type": "code",
   "execution_count": 144,
   "id": "4c244c0e-c43b-4763-94da-1002a57a6d32",
   "metadata": {},
   "outputs": [],
   "source": [
    "# List in dictionary\n",
    "report = {\"name\" : [\"Kashif\",\"Rashid\",\"Shoaib\"], \"age\" : [40, 37, 26]}"
   ]
  },
  {
   "cell_type": "code",
   "execution_count": 146,
   "id": "a113bb7b-81e9-421b-af5f-ac76acae8ee5",
   "metadata": {},
   "outputs": [
    {
     "data": {
      "text/plain": [
       "dict"
      ]
     },
     "execution_count": 146,
     "metadata": {},
     "output_type": "execute_result"
    }
   ],
   "source": [
    "type(report)"
   ]
  },
  {
   "cell_type": "code",
   "execution_count": 148,
   "id": "9d8cb7c0-420e-427f-975b-6d1f80d8ec7b",
   "metadata": {},
   "outputs": [
    {
     "data": {
      "text/plain": [
       "{'name': ['Kashif', 'Rashid', 'Shoaib'], 'age': [40, 37, 26]}"
      ]
     },
     "execution_count": 148,
     "metadata": {},
     "output_type": "execute_result"
    }
   ],
   "source": [
    "report"
   ]
  },
  {
   "cell_type": "code",
   "execution_count": 154,
   "id": "bee12a90-264a-4b0e-ae1e-b121437c8160",
   "metadata": {},
   "outputs": [
    {
     "data": {
      "text/plain": [
       "37"
      ]
     },
     "execution_count": 154,
     "metadata": {},
     "output_type": "execute_result"
    }
   ],
   "source": [
    "report[\"age\"][1]"
   ]
  },
  {
   "cell_type": "code",
   "execution_count": 156,
   "id": "183d423e-0428-4838-8699-05ec72dd7019",
   "metadata": {},
   "outputs": [
    {
     "data": {
      "text/plain": [
       "'Shoaib'"
      ]
     },
     "execution_count": 156,
     "metadata": {},
     "output_type": "execute_result"
    }
   ],
   "source": [
    "report[\"name\"][2]"
   ]
  },
  {
   "cell_type": "code",
   "execution_count": 164,
   "id": "95b16309-7ec7-4606-9e6f-41cd0e5343ca",
   "metadata": {},
   "outputs": [],
   "source": [
    "# Dictionary in a List\n",
    "report2 = [\"Kashif\", \"Ali\", {\"name\":\"Kashif\",\"age\":39,\"roll\":\"unknown\",\"loc\":\"Karachi\"}, 35, 14.5]"
   ]
  },
  {
   "cell_type": "code",
   "execution_count": 172,
   "id": "d03094d2-9a64-497a-867f-0d6992af7d31",
   "metadata": {},
   "outputs": [
    {
     "data": {
      "text/plain": [
       "'Karachi'"
      ]
     },
     "execution_count": 172,
     "metadata": {},
     "output_type": "execute_result"
    }
   ],
   "source": [
    "report2[2][\"loc\"]"
   ]
  },
  {
   "cell_type": "code",
   "execution_count": 178,
   "id": "0f5ea7c1-d804-4cc6-9ba6-d0304d328f99",
   "metadata": {},
   "outputs": [
    {
     "data": {
      "text/plain": [
       "4"
      ]
     },
     "execution_count": 178,
     "metadata": {},
     "output_type": "execute_result"
    }
   ],
   "source": [
    "len(report2[2])"
   ]
  },
  {
   "cell_type": "code",
   "execution_count": 180,
   "id": "8343a508-c717-4145-be6f-08fd06017af5",
   "metadata": {},
   "outputs": [
    {
     "data": {
      "text/plain": [
       "'unknown'"
      ]
     },
     "execution_count": 180,
     "metadata": {},
     "output_type": "execute_result"
    }
   ],
   "source": [
    "report2[2]['roll']"
   ]
  },
  {
   "cell_type": "code",
   "execution_count": 184,
   "id": "11ef1663-7fd8-4331-9369-f3c91b1c4ebb",
   "metadata": {},
   "outputs": [],
   "source": [
    "# Dictionary in dictionary\n",
    "report3 = {'name':'Kashif', 'qualification':{'first':'Matric','second':'Inter','third':'BA',}, 'age':'40'}"
   ]
  },
  {
   "cell_type": "code",
   "execution_count": 198,
   "id": "47d87752-ddc6-432f-a18e-d7946b2519bd",
   "metadata": {},
   "outputs": [
    {
     "data": {
      "text/plain": [
       "'Inter'"
      ]
     },
     "execution_count": 198,
     "metadata": {},
     "output_type": "execute_result"
    }
   ],
   "source": [
    "report3['qualification']['second']"
   ]
  },
  {
   "cell_type": "code",
   "execution_count": 202,
   "id": "530b8789-f135-499a-b39b-b68e571adf4e",
   "metadata": {},
   "outputs": [],
   "source": [
    "# Operators\n",
    "#        in: membership checking operator\n",
    "#        is: identity check operator\n",
    "#        not: negation\n",
    "#        and: logical\n",
    "#        or: logical"
   ]
  },
  {
   "cell_type": "code",
   "execution_count": 1,
   "id": "325037c6-461c-4c86-acb0-2747677b979f",
   "metadata": {},
   "outputs": [],
   "source": [
    "allnames = {'Kashif','Rashid','Shoaib','Ahmad','Abdullah','Abdulrehman'}"
   ]
  },
  {
   "cell_type": "code",
   "execution_count": null,
   "id": "8491ea15-0aeb-4caf-972f-b36e090a71cf",
   "metadata": {},
   "outputs": [],
   "source": []
  },
  {
   "cell_type": "markdown",
   "id": "115e7478-1212-4b29-9159-072c8891707a",
   "metadata": {},
   "source": [
    "### List in a Dictionary\n",
    "### Dictionary in a List\n",
    "### Dictionary in a Dictionary"
   ]
  },
  {
   "cell_type": "code",
   "execution_count": 21,
   "id": "48bf7fbf-e236-4910-86ad-fcb6ec00855b",
   "metadata": {},
   "outputs": [],
   "source": [
    "students = [{'name':'Kashif', 'roll':'123', 'course':'python'},\n",
    "           {'name':'Mehmood'},{'roll':'456'},{'course':'python'},\n",
    "           {'name':'Rashid'},{'roll':'789'},{'course':'python'},\n",
    "           {'name':'Shoaib'},{'roll':'101'},{'course':'python'},\n",
    "           ]"
   ]
  },
  {
   "cell_type": "code",
   "execution_count": 25,
   "id": "ab574891-f404-4592-8f8c-d6b04fa41240",
   "metadata": {},
   "outputs": [
    {
     "data": {
      "text/plain": [
       "{'name': 'Kashif', 'roll': '123', 'course': 'python'}"
      ]
     },
     "execution_count": 25,
     "metadata": {},
     "output_type": "execute_result"
    }
   ],
   "source": [
    "students[0]"
   ]
  },
  {
   "cell_type": "code",
   "execution_count": 31,
   "id": "b1445f46-2d82-44b8-91a3-1903e148abdc",
   "metadata": {},
   "outputs": [
    {
     "data": {
      "text/plain": [
       "{'name': 'Mehmood'}"
      ]
     },
     "execution_count": 31,
     "metadata": {},
     "output_type": "execute_result"
    }
   ],
   "source": [
    "students[1]"
   ]
  },
  {
   "cell_type": "code",
   "execution_count": null,
   "id": "84761f2c-873c-4aeb-94b8-cf762afb1f62",
   "metadata": {},
   "outputs": [],
   "source": []
  },
  {
   "cell_type": "markdown",
   "id": "0b649956-e0a9-48a6-af65-3c99823c17bf",
   "metadata": {},
   "source": [
    "### Operators : in: membership checking operator\n",
    "###             is: identity check olpeartor\n",
    "###             not: Negation operator\n",
    "###"
   ]
  },
  {
   "cell_type": "code",
   "execution_count": 23,
   "id": "aec486d0-a724-4782-9298-e123c7d011b6",
   "metadata": {},
   "outputs": [],
   "source": [
    "# List operation\n",
    "names = ['Kashif', 'Rashid', 'Shoaib', 'Ahmad', 'Abdullah', 'Abdul Rehman']"
   ]
  },
  {
   "cell_type": "code",
   "execution_count": 25,
   "id": "b2c77e7e-a415-41be-a535-02285134057f",
   "metadata": {},
   "outputs": [
    {
     "data": {
      "text/plain": [
       "True"
      ]
     },
     "execution_count": 25,
     "metadata": {},
     "output_type": "execute_result"
    }
   ],
   "source": [
    "'Abdullah' in names"
   ]
  },
  {
   "cell_type": "code",
   "execution_count": 27,
   "id": "46b99e3a-287e-4475-8bf5-d2c17204d815",
   "metadata": {},
   "outputs": [
    {
     "data": {
      "text/plain": [
       "False"
      ]
     },
     "execution_count": 27,
     "metadata": {},
     "output_type": "execute_result"
    }
   ],
   "source": [
    "'Abdullah'.lower() in names"
   ]
  },
  {
   "cell_type": "code",
   "execution_count": 29,
   "id": "6ca37a7d-36ff-4934-9f32-71866d9442f4",
   "metadata": {},
   "outputs": [
    {
     "data": {
      "text/plain": [
       "True"
      ]
     },
     "execution_count": 29,
     "metadata": {},
     "output_type": "execute_result"
    }
   ],
   "source": [
    "'Abdullah'.capitalize() in names"
   ]
  },
  {
   "cell_type": "code",
   "execution_count": 31,
   "id": "44511f36-bbc6-4257-99d6-d40370a6f20f",
   "metadata": {},
   "outputs": [
    {
     "data": {
      "text/plain": [
       "False"
      ]
     },
     "execution_count": 31,
     "metadata": {},
     "output_type": "execute_result"
    }
   ],
   "source": [
    "'Ahmad' not in names"
   ]
  },
  {
   "cell_type": "code",
   "execution_count": 33,
   "id": "9b90aff5-134d-4eae-895a-87ca48c64f29",
   "metadata": {},
   "outputs": [
    {
     "data": {
      "text/plain": [
       "True"
      ]
     },
     "execution_count": 33,
     "metadata": {},
     "output_type": "execute_result"
    }
   ],
   "source": [
    "'Ahmad'.upper() not in names"
   ]
  },
  {
   "cell_type": "code",
   "execution_count": 35,
   "id": "f8de60d5-b668-41bc-ad8a-5129df8e7639",
   "metadata": {},
   "outputs": [
    {
     "data": {
      "text/plain": [
       "False"
      ]
     },
     "execution_count": 35,
     "metadata": {},
     "output_type": "execute_result"
    }
   ],
   "source": [
    "'b' in names[0]"
   ]
  },
  {
   "cell_type": "code",
   "execution_count": 37,
   "id": "c5153d4d-48d1-4365-ab68-f1c13ed9f00e",
   "metadata": {},
   "outputs": [
    {
     "data": {
      "text/plain": [
       "True"
      ]
     },
     "execution_count": 37,
     "metadata": {},
     "output_type": "execute_result"
    }
   ],
   "source": [
    "'b' in names[2]"
   ]
  },
  {
   "cell_type": "code",
   "execution_count": 40,
   "id": "8916accf-a71f-4fe9-b46c-3d0a1cec3ae0",
   "metadata": {},
   "outputs": [],
   "source": [
    "# Dictionary operations\n",
    "students = {'name':'Kashif', 'age':40, 'district':'Kasur', 'qualification':'MA', 'childern':3}"
   ]
  },
  {
   "cell_type": "code",
   "execution_count": 44,
   "id": "9789b79d-ac2a-46ad-980f-4db7ba484f47",
   "metadata": {},
   "outputs": [
    {
     "data": {
      "text/plain": [
       "{'name': 'Kashif',\n",
       " 'age': 40,\n",
       " 'district': 'Kasur',\n",
       " 'qualification': 'MA',\n",
       " 'childern': 3}"
      ]
     },
     "execution_count": 44,
     "metadata": {},
     "output_type": "execute_result"
    }
   ],
   "source": [
    "students"
   ]
  },
  {
   "cell_type": "code",
   "execution_count": 46,
   "id": "7fc4cbd6-fa70-4f35-add3-819082244aca",
   "metadata": {},
   "outputs": [
    {
     "data": {
      "text/plain": [
       "True"
      ]
     },
     "execution_count": 46,
     "metadata": {},
     "output_type": "execute_result"
    }
   ],
   "source": [
    "'district' in students"
   ]
  },
  {
   "cell_type": "code",
   "execution_count": 54,
   "id": "05388f4a-ebdc-4206-83a5-56a8b0c8ce10",
   "metadata": {},
   "outputs": [],
   "source": [
    "students2 = [{'name':'Kashif', 'roll':'123', 'course':'python'},\n",
    "           {'name':'Mehmood'},{'roll':'456'},{'course':'python'},\n",
    "           {'name':'Rashid'},{'roll':'789'},{'course':'python'},\n",
    "           {'name':'Shoaib'},{'roll':'101'},{'course':'python'},\n",
    "           ]"
   ]
  },
  {
   "cell_type": "code",
   "execution_count": 56,
   "id": "9d7a7638-4d02-4bcb-8dc7-4a7df23c8310",
   "metadata": {},
   "outputs": [
    {
     "data": {
      "text/plain": [
       "True"
      ]
     },
     "execution_count": 56,
     "metadata": {},
     "output_type": "execute_result"
    }
   ],
   "source": [
    "'name' in students2[0]"
   ]
  },
  {
   "cell_type": "code",
   "execution_count": 64,
   "id": "d0203921-3707-4251-b0d4-7c0f93142cc8",
   "metadata": {},
   "outputs": [
    {
     "data": {
      "text/plain": [
       "False"
      ]
     },
     "execution_count": 64,
     "metadata": {},
     "output_type": "execute_result"
    }
   ],
   "source": [
    "a = 10\n",
    "b = 20\n",
    "a is b"
   ]
  },
  {
   "cell_type": "code",
   "execution_count": 68,
   "id": "f481f753-9480-4fc0-8152-8df455ed8250",
   "metadata": {},
   "outputs": [],
   "source": [
    "c = a"
   ]
  },
  {
   "cell_type": "code",
   "execution_count": 70,
   "id": "a0031d5d-8df7-4c98-9848-5749aac17e09",
   "metadata": {},
   "outputs": [
    {
     "data": {
      "text/plain": [
       "True"
      ]
     },
     "execution_count": 70,
     "metadata": {},
     "output_type": "execute_result"
    }
   ],
   "source": [
    "c is a"
   ]
  },
  {
   "cell_type": "code",
   "execution_count": 72,
   "id": "83ae7d1b-5ada-4a76-886f-c62894af0a94",
   "metadata": {},
   "outputs": [
    {
     "data": {
      "text/plain": [
       "140707302288088"
      ]
     },
     "execution_count": 72,
     "metadata": {},
     "output_type": "execute_result"
    }
   ],
   "source": [
    "id(a)"
   ]
  },
  {
   "cell_type": "code",
   "execution_count": 74,
   "id": "0d7e3126-b3ac-44e1-b2b4-d3ae0de8ebe1",
   "metadata": {},
   "outputs": [
    {
     "data": {
      "text/plain": [
       "140707302288088"
      ]
     },
     "execution_count": 74,
     "metadata": {},
     "output_type": "execute_result"
    }
   ],
   "source": [
    "id(c)"
   ]
  },
  {
   "cell_type": "code",
   "execution_count": 76,
   "id": "d061778c-1985-4145-bc1a-3b097c315f41",
   "metadata": {},
   "outputs": [],
   "source": [
    "d = 10"
   ]
  },
  {
   "cell_type": "code",
   "execution_count": 80,
   "id": "137cf7d2-8fa0-4e20-bd76-297e80a2bed7",
   "metadata": {},
   "outputs": [
    {
     "data": {
      "text/plain": [
       "True"
      ]
     },
     "execution_count": 80,
     "metadata": {},
     "output_type": "execute_result"
    }
   ],
   "source": [
    "# Python is memory efficient so it points to the mathing value rather than occupying new memory\n",
    "d is a"
   ]
  },
  {
   "cell_type": "code",
   "execution_count": 82,
   "id": "52a5a5c6-6537-437d-9f1e-8ad0de0056a8",
   "metadata": {},
   "outputs": [],
   "source": [
    "a = 100\n",
    "b = 200\n",
    "c = 300"
   ]
  },
  {
   "cell_type": "code",
   "execution_count": 84,
   "id": "ee8c3a3c-7e79-40e0-8fb3-4187fece2f24",
   "metadata": {},
   "outputs": [
    {
     "data": {
      "text/plain": [
       "True"
      ]
     },
     "execution_count": 84,
     "metadata": {},
     "output_type": "execute_result"
    }
   ],
   "source": [
    "a > b or c > b"
   ]
  },
  {
   "cell_type": "code",
   "execution_count": 88,
   "id": "8a42c152-9bd9-4d3f-aa22-b6cdaed5034b",
   "metadata": {},
   "outputs": [
    {
     "data": {
      "text/plain": [
       "False"
      ]
     },
     "execution_count": 88,
     "metadata": {},
     "output_type": "execute_result"
    }
   ],
   "source": [
    "a > b and c > b"
   ]
  },
  {
   "cell_type": "code",
   "execution_count": 90,
   "id": "824a17fa-71c5-4360-bbb1-9f2e67ce476e",
   "metadata": {},
   "outputs": [
    {
     "data": {
      "text/plain": [
       "12"
      ]
     },
     "execution_count": 90,
     "metadata": {},
     "output_type": "execute_result"
    }
   ],
   "source": [
    "12 or 50 or 20"
   ]
  },
  {
   "cell_type": "code",
   "execution_count": 92,
   "id": "72d977e5-c4a0-491f-a266-56cc1abd134f",
   "metadata": {},
   "outputs": [
    {
     "data": {
      "text/plain": [
       "20"
      ]
     },
     "execution_count": 92,
     "metadata": {},
     "output_type": "execute_result"
    }
   ],
   "source": [
    "12 and 50 and 20"
   ]
  },
  {
   "cell_type": "markdown",
   "id": "09992e2f-3c9a-454c-927c-4fbe7574f12c",
   "metadata": {},
   "source": [
    "### Truthy : every value has truthy value"
   ]
  },
  {
   "cell_type": "code",
   "execution_count": 95,
   "id": "528a5d77-074a-44b9-87b0-e5642e77bddf",
   "metadata": {},
   "outputs": [
    {
     "data": {
      "text/plain": [
       "True"
      ]
     },
     "execution_count": 95,
     "metadata": {},
     "output_type": "execute_result"
    }
   ],
   "source": [
    "bool('hello')"
   ]
  },
  {
   "cell_type": "code",
   "execution_count": 97,
   "id": "798d9d37-a58d-4218-82fe-dadb0f7b6ebb",
   "metadata": {},
   "outputs": [
    {
     "data": {
      "text/plain": [
       "False"
      ]
     },
     "execution_count": 97,
     "metadata": {},
     "output_type": "execute_result"
    }
   ],
   "source": [
    "bool(\"\")"
   ]
  },
  {
   "cell_type": "code",
   "execution_count": 99,
   "id": "fc182c02-f91a-4228-a636-49a9270c8671",
   "metadata": {},
   "outputs": [
    {
     "data": {
      "text/plain": [
       "True"
      ]
     },
     "execution_count": 99,
     "metadata": {},
     "output_type": "execute_result"
    }
   ],
   "source": [
    "bool(' ')"
   ]
  },
  {
   "cell_type": "code",
   "execution_count": 101,
   "id": "334408b5-041c-4cb0-9a0e-60ad6124e7ca",
   "metadata": {},
   "outputs": [
    {
     "data": {
      "text/plain": [
       "False"
      ]
     },
     "execution_count": 101,
     "metadata": {},
     "output_type": "execute_result"
    }
   ],
   "source": [
    "bool(0)"
   ]
  },
  {
   "cell_type": "code",
   "execution_count": 103,
   "id": "213fded7-b758-4e55-9498-4d94abcaf69a",
   "metadata": {},
   "outputs": [
    {
     "data": {
      "text/plain": [
       "True"
      ]
     },
     "execution_count": 103,
     "metadata": {},
     "output_type": "execute_result"
    }
   ],
   "source": [
    "bool(1)"
   ]
  },
  {
   "cell_type": "code",
   "execution_count": 105,
   "id": "c3e4d2fb-eec0-45a4-aca0-0487bdeee292",
   "metadata": {},
   "outputs": [
    {
     "data": {
      "text/plain": [
       "True"
      ]
     },
     "execution_count": 105,
     "metadata": {},
     "output_type": "execute_result"
    }
   ],
   "source": [
    "bool(12)"
   ]
  },
  {
   "cell_type": "code",
   "execution_count": 109,
   "id": "e708b39a-0f1c-4415-824d-304d626e141d",
   "metadata": {},
   "outputs": [
    {
     "data": {
      "text/plain": [
       "True"
      ]
     },
     "execution_count": 109,
     "metadata": {},
     "output_type": "execute_result"
    }
   ],
   "source": [
    "bool([1, 3])"
   ]
  },
  {
   "cell_type": "code",
   "execution_count": 111,
   "id": "c32bdb3e-4d8f-43e8-b2c4-f1d2059a2eb6",
   "metadata": {},
   "outputs": [
    {
     "data": {
      "text/plain": [
       "False"
      ]
     },
     "execution_count": 111,
     "metadata": {},
     "output_type": "execute_result"
    }
   ],
   "source": [
    "bool([])"
   ]
  },
  {
   "cell_type": "code",
   "execution_count": 113,
   "id": "a74dade9-72ba-4a7e-8139-893fcfdb0cdb",
   "metadata": {},
   "outputs": [],
   "source": [
    "# https://realpython.com/quizzes/python-dicts/viewer/"
   ]
  }
 ],
 "metadata": {
  "kernelspec": {
   "display_name": "Python 3 (ipykernel)",
   "language": "python",
   "name": "python3"
  },
  "language_info": {
   "codemirror_mode": {
    "name": "ipython",
    "version": 3
   },
   "file_extension": ".py",
   "mimetype": "text/x-python",
   "name": "python",
   "nbconvert_exporter": "python",
   "pygments_lexer": "ipython3",
   "version": "3.12.7"
  }
 },
 "nbformat": 4,
 "nbformat_minor": 5
}
