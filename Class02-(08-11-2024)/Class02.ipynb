{
 "cells": [
  {
   "cell_type": "markdown",
   "id": "ec30a89a-53f0-431b-b146-a67f8da948c2",
   "metadata": {},
   "source": [
    "### Print single string"
   ]
  },
  {
   "cell_type": "code",
   "execution_count": 1,
   "id": "3934496d-059c-432e-a29f-bd50bcb1e84f",
   "metadata": {},
   "outputs": [
    {
     "name": "stdout",
     "output_type": "stream",
     "text": [
      "Bismillah with Python\n"
     ]
    }
   ],
   "source": [
    "print(\"Bismillah with Python\")"
   ]
  },
  {
   "cell_type": "markdown",
   "id": "c6843964-82ac-46f0-8307-bd045ef775f5",
   "metadata": {},
   "source": [
    "### Print multiple strings"
   ]
  },
  {
   "cell_type": "code",
   "execution_count": 1,
   "id": "fbd89a2b-18a4-4900-9b01-a6e013dc6f36",
   "metadata": {},
   "outputs": [
    {
     "name": "stdout",
     "output_type": "stream",
     "text": [
      "Hello World\n"
     ]
    }
   ],
   "source": [
    "print(\"Hello\", \"World\")"
   ]
  },
  {
   "cell_type": "markdown",
   "id": "94d80e06-14a7-424a-94ac-e081bf514fed",
   "metadata": {},
   "source": [
    "### Print single number"
   ]
  },
  {
   "cell_type": "code",
   "execution_count": 7,
   "id": "0923fafb-3e05-4e25-8fff-83c166adc443",
   "metadata": {},
   "outputs": [
    {
     "name": "stdout",
     "output_type": "stream",
     "text": [
      "100\n"
     ]
    }
   ],
   "source": [
    "print(100)"
   ]
  },
  {
   "cell_type": "markdown",
   "id": "e10d338a-9cbe-4049-88a5-dca4a24b75c3",
   "metadata": {},
   "source": [
    "### Print multiple numbers"
   ]
  },
  {
   "cell_type": "code",
   "execution_count": 5,
   "id": "b0364c84-33a4-4580-bf86-68d9a66116b5",
   "metadata": {},
   "outputs": [
    {
     "name": "stdout",
     "output_type": "stream",
     "text": [
      "100 200 300\n"
     ]
    }
   ],
   "source": [
    "print(100,200,300)"
   ]
  },
  {
   "cell_type": "markdown",
   "id": "dbd1369d-1097-43f8-821d-4745ffa7fc19",
   "metadata": {},
   "source": [
    "### Print string and number"
   ]
  },
  {
   "cell_type": "code",
   "execution_count": 5,
   "id": "841182af-456c-4026-9e2c-ecd0a3fc2d39",
   "metadata": {},
   "outputs": [
    {
     "name": "stdout",
     "output_type": "stream",
     "text": [
      "100 I am Kashif\n"
     ]
    }
   ],
   "source": [
    "print(100, \"I am Kashif\")"
   ]
  },
  {
   "cell_type": "markdown",
   "id": "8d1b99d5-4dad-41d7-a49e-8b240b138408",
   "metadata": {},
   "source": [
    "### Specify separator"
   ]
  },
  {
   "cell_type": "code",
   "execution_count": 13,
   "id": "c9a1edf6-1555-40f1-994d-dc1795fd5b44",
   "metadata": {},
   "outputs": [
    {
     "name": "stdout",
     "output_type": "stream",
     "text": [
      "100##200##300\n"
     ]
    }
   ],
   "source": [
    "print(100,200,300, sep=\"##\")"
   ]
  },
  {
   "cell_type": "markdown",
   "id": "954c73eb-618b-48e1-a967-db7954925e5a",
   "metadata": {},
   "source": [
    "### Data"
   ]
  },
  {
   "cell_type": "markdown",
   "id": "6d105432-83c2-45d9-b7bf-c82758bda99a",
   "metadata": {},
   "source": [
    "- Text\n",
    "- Number"
   ]
  },
  {
   "cell_type": "markdown",
   "id": "2ec61477-afb2-448d-8960-a0073462e8d5",
   "metadata": {},
   "source": [
    "### Data Types"
   ]
  },
  {
   "cell_type": "markdown",
   "id": "6a488d87-3ca0-49ef-9883-ae15848657b5",
   "metadata": {},
   "source": [
    "- Number\n",
    "  - Whole    :  integers  >>>  int\n",
    "  - Decimal  :  floats    >>>  float\n",
    "- Text\n",
    "    - \"Character / Word / Sentence / Paragraph\"  :  Strings  >>>  str\n",
    "- Boolean    :  true / false  >>>  bool  (True / False)"
   ]
  },
  {
   "cell_type": "markdown",
   "id": "0aa2e11e-e46b-48a1-bb13-6bf7daa8dd33",
   "metadata": {},
   "source": [
    "### Print data and identify type"
   ]
  },
  {
   "cell_type": "code",
   "execution_count": 6,
   "id": "a200e699-8da5-4131-a5fb-18a11d647bd0",
   "metadata": {},
   "outputs": [
    {
     "name": "stdout",
     "output_type": "stream",
     "text": [
      "We are learning Python\n"
     ]
    }
   ],
   "source": [
    "print(\"We are learning Python\")"
   ]
  },
  {
   "cell_type": "code",
   "execution_count": 10,
   "id": "bc82309b-f179-4545-829c-2263c2698c84",
   "metadata": {},
   "outputs": [
    {
     "name": "stdout",
     "output_type": "stream",
     "text": [
      "100\n"
     ]
    }
   ],
   "source": [
    "print('100')"
   ]
  },
  {
   "cell_type": "code",
   "execution_count": 12,
   "id": "30301ff2-5d83-4de9-8506-0f8f16155c93",
   "metadata": {},
   "outputs": [
    {
     "name": "stdout",
     "output_type": "stream",
     "text": [
      "<class 'float'>\n"
     ]
    }
   ],
   "source": [
    "print(type(23.6))"
   ]
  },
  {
   "cell_type": "code",
   "execution_count": 14,
   "id": "b202c7c5-060a-412d-8a8c-a1b1c70607c5",
   "metadata": {},
   "outputs": [
    {
     "name": "stdout",
     "output_type": "stream",
     "text": [
      "200\n"
     ]
    }
   ],
   "source": [
    "print(200)"
   ]
  },
  {
   "cell_type": "code",
   "execution_count": 16,
   "id": "0adfcff1-b786-4698-93a0-ac4fad9c4dc4",
   "metadata": {},
   "outputs": [
    {
     "name": "stdout",
     "output_type": "stream",
     "text": [
      "<class 'int'>\n"
     ]
    }
   ],
   "source": [
    "print(type(200))"
   ]
  },
  {
   "cell_type": "code",
   "execution_count": 30,
   "id": "fa3d1b60-8baa-4557-82e1-d53ec61f0298",
   "metadata": {},
   "outputs": [
    {
     "name": "stdout",
     "output_type": "stream",
     "text": [
      "<class 'bool'>\n"
     ]
    }
   ],
   "source": [
    "print(type(False))"
   ]
  },
  {
   "cell_type": "markdown",
   "id": "b7dc717b-4cd4-4b17-88f1-853979982c17",
   "metadata": {},
   "source": [
    "### Variable"
   ]
  },
  {
   "cell_type": "code",
   "execution_count": 22,
   "id": "0f4e6f80-2343-407e-abe2-b81fc845b0bf",
   "metadata": {},
   "outputs": [],
   "source": [
    "course = \"AI and Data Science\""
   ]
  },
  {
   "cell_type": "code",
   "execution_count": 24,
   "id": "ec87ba9c-c6d3-4dc9-bf98-0d1ec3b94a64",
   "metadata": {},
   "outputs": [
    {
     "data": {
      "text/plain": [
       "'AI and Data Science'"
      ]
     },
     "execution_count": 24,
     "metadata": {},
     "output_type": "execute_result"
    }
   ],
   "source": [
    "course"
   ]
  },
  {
   "cell_type": "code",
   "execution_count": 26,
   "id": "a88db1d9-250a-44c3-99b4-d816c2c5775f",
   "metadata": {},
   "outputs": [],
   "source": [
    "course = \"Python for AI and Data Science\""
   ]
  },
  {
   "cell_type": "code",
   "execution_count": 28,
   "id": "7ffde836-012e-4439-b096-917d9f3e7044",
   "metadata": {},
   "outputs": [
    {
     "data": {
      "text/plain": [
       "'Python for AI and Data Science'"
      ]
     },
     "execution_count": 28,
     "metadata": {},
     "output_type": "execute_result"
    }
   ],
   "source": [
    "course"
   ]
  },
  {
   "cell_type": "code",
   "execution_count": 32,
   "id": "4839bf58-dcb6-4ffd-9ffa-bddd9fbe6425",
   "metadata": {},
   "outputs": [],
   "source": [
    "marks = 100"
   ]
  },
  {
   "cell_type": "code",
   "execution_count": 36,
   "id": "6fcf273b-d2d9-46ac-a46e-f32f82d81b1f",
   "metadata": {},
   "outputs": [
    {
     "name": "stdout",
     "output_type": "stream",
     "text": [
      "<class 'int'>\n"
     ]
    }
   ],
   "source": [
    "print(type(marks))"
   ]
  },
  {
   "cell_type": "code",
   "execution_count": 34,
   "id": "89164c8f-d97b-441d-967d-80c9b710bbf5",
   "metadata": {},
   "outputs": [
    {
     "data": {
      "text/plain": [
       "int"
      ]
     },
     "execution_count": 34,
     "metadata": {},
     "output_type": "execute_result"
    }
   ],
   "source": [
    "type(marks)"
   ]
  },
  {
   "cell_type": "markdown",
   "id": "7548500d-f933-44b9-9679-da70a57f0823",
   "metadata": {},
   "source": [
    "### Varibale Naming"
   ]
  },
  {
   "attachments": {
    "927570b6-e2df-4494-be9f-b0beafdfaedf.PNG": {
     "image/png": "[encoded data removed]"
    }
   },
   "cell_type": "markdown",
   "id": "bf14e618-26cc-40bb-a93f-c68c9ffa5f99",
   "metadata": {},
   "source": [
    "- Should not start with Number\n",
    "- No special character is allowed anywhere in variable name\n",
    "- Space is not allowed\n",
    "- Reserved words are not allowed\n",
    "- \n",
    "![puthon-reserved-words.PNG](attachment:927570b6-e2df-4494-be9f-b0beafdfaedf.PNG)"
   ]
  },
  {
   "cell_type": "code",
   "execution_count": 2,
   "id": "b2ba4e27-d08e-4fa9-b07c-ab115e916a86",
   "metadata": {},
   "outputs": [
    {
     "ename": "SyntaxError",
     "evalue": "invalid decimal literal (3722384337.py, line 2)",
     "output_type": "error",
     "traceback": [
      "\u001b[1;36m  Cell \u001b[1;32mIn[2], line 2\u001b[1;36m\u001b[0m\n\u001b[1;33m    1student = \"Kashif\"\u001b[0m\n\u001b[1;37m    ^\u001b[0m\n\u001b[1;31mSyntaxError\u001b[0m\u001b[1;31m:\u001b[0m invalid decimal literal\n"
     ]
    }
   ],
   "source": [
    "# Should not start with Number\n",
    "1student = \"Kashif\""
   ]
  },
  {
   "cell_type": "code",
   "execution_count": 4,
   "id": "1ad6a5fc-13ab-4e22-8f0d-ddc341e32ea7",
   "metadata": {},
   "outputs": [
    {
     "ename": "SyntaxError",
     "evalue": "cannot assign to expression here. Maybe you meant '==' instead of '='? (1497418705.py, line 2)",
     "output_type": "error",
     "traceback": [
      "\u001b[1;36m  Cell \u001b[1;32mIn[4], line 2\u001b[1;36m\u001b[0m\n\u001b[1;33m    my@name = \"Kashif\"\u001b[0m\n\u001b[1;37m    ^\u001b[0m\n\u001b[1;31mSyntaxError\u001b[0m\u001b[1;31m:\u001b[0m cannot assign to expression here. Maybe you meant '==' instead of '='?\n"
     ]
    }
   ],
   "source": [
    "# No special character is allowed anywhere in variable name\n",
    "my@name = \"Kashif\"\n",
    "my-name = \"Kashif\"\n",
    "my_name = \"Kashif\"\n",
    "my.name = \"Kashif\""
   ]
  },
  {
   "cell_type": "code",
   "execution_count": 6,
   "id": "23817d11-e821-4bf2-bc72-77d6535e0265",
   "metadata": {},
   "outputs": [
    {
     "ename": "SyntaxError",
     "evalue": "invalid syntax (524483617.py, line 2)",
     "output_type": "error",
     "traceback": [
      "\u001b[1;36m  Cell \u001b[1;32mIn[6], line 2\u001b[1;36m\u001b[0m\n\u001b[1;33m    my name = \"Kashif\"\u001b[0m\n\u001b[1;37m       ^\u001b[0m\n\u001b[1;31mSyntaxError\u001b[0m\u001b[1;31m:\u001b[0m invalid syntax\n"
     ]
    }
   ],
   "source": [
    "# Space is not allowed\n",
    "my name = \"Kashif\""
   ]
  },
  {
   "cell_type": "code",
   "execution_count": 4,
   "id": "86fb244b-6c06-4770-9be4-6b3a7e495255",
   "metadata": {},
   "outputs": [
    {
     "ename": "SyntaxError",
     "evalue": "invalid syntax (4239602723.py, line 2)",
     "output_type": "error",
     "traceback": [
      "\u001b[1;36m  Cell \u001b[1;32mIn[4], line 2\u001b[1;36m\u001b[0m\n\u001b[1;33m    def = \"Kashif\"\u001b[0m\n\u001b[1;37m        ^\u001b[0m\n\u001b[1;31mSyntaxError\u001b[0m\u001b[1;31m:\u001b[0m invalid syntax\n"
     ]
    }
   ],
   "source": [
    "# Reserved words are not allowed\n",
    "def = \"Kashif\""
   ]
  },
  {
   "cell_type": "markdown",
   "id": "f0970c66-5820-4e43-8cc4-77d55770c56c",
   "metadata": {},
   "source": [
    "# Operators"
   ]
  },
  {
   "cell_type": "markdown",
   "id": "1c4694cb-c209-42bd-b890-70968de139b3",
   "metadata": {},
   "source": [
    "### Arithmatic Operators : Mathematical operations\n",
    "- `+ (Addition)`\n",
    "- `- (Subtraction)`\n",
    "- `* (Multiplication)`\n",
    "- `/ (floating division)`\n",
    "- `% (Modolous, tells remainder [divier, dividened, qoution, remainder])`\n",
    "- `** (Exponent)`\n",
    "- `// (floor division)`\n",
    "### Assignment Operator : Assign value to an identifier\n",
    "- `= (Assignment Operator)`\n",
    "### Comparison Operators : Answers in boolean form\n",
    "- `== (Equal to)`\n",
    "- `!= (Not equal to)`\n",
    "- `> (Greater than)`\n",
    "- `< (Less than)`\n",
    "- `>= (Greater than or equal to)`\n",
    "- `<= (Less than or equal to)`\n"
   ]
  },
  {
   "cell_type": "code",
   "execution_count": 25,
   "id": "0e4cedf3-f9d7-4f44-8254-d34f0c83c597",
   "metadata": {},
   "outputs": [
    {
     "data": {
      "text/plain": [
       "9"
      ]
     },
     "execution_count": 25,
     "metadata": {},
     "output_type": "execute_result"
    }
   ],
   "source": [
    "# Addition\n",
    "5+4"
   ]
  },
  {
   "cell_type": "code",
   "execution_count": 27,
   "id": "f7078d6a-3a40-45b1-9a19-ea0f56a18ba8",
   "metadata": {},
   "outputs": [
    {
     "data": {
      "text/plain": [
       "1"
      ]
     },
     "execution_count": 27,
     "metadata": {},
     "output_type": "execute_result"
    }
   ],
   "source": [
    "# Subtraction\n",
    "5-4"
   ]
  },
  {
   "cell_type": "code",
   "execution_count": 29,
   "id": "6435c436-3a27-4434-962a-08d698e139a1",
   "metadata": {},
   "outputs": [
    {
     "data": {
      "text/plain": [
       "20"
      ]
     },
     "execution_count": 29,
     "metadata": {},
     "output_type": "execute_result"
    }
   ],
   "source": [
    "# Multiplication\n",
    "5*4"
   ]
  },
  {
   "cell_type": "code",
   "execution_count": 31,
   "id": "c4e81365-e726-41f4-9c16-4500b1f30760",
   "metadata": {},
   "outputs": [
    {
     "data": {
      "text/plain": [
       "6.666666666666667"
      ]
     },
     "execution_count": 31,
     "metadata": {},
     "output_type": "execute_result"
    }
   ],
   "source": [
    "# Division\n",
    "20/3"
   ]
  },
  {
   "cell_type": "code",
   "execution_count": 35,
   "id": "01baab9a-95be-49be-b767-d0e4263f802a",
   "metadata": {},
   "outputs": [
    {
     "data": {
      "text/plain": [
       "1"
      ]
     },
     "execution_count": 35,
     "metadata": {},
     "output_type": "execute_result"
    }
   ],
   "source": [
    "# Modolus : tells remainder\n",
    "10%3"
   ]
  },
  {
   "cell_type": "code",
   "execution_count": 39,
   "id": "fdaafec2-66f9-4562-ba43-8876064f4ab3",
   "metadata": {},
   "outputs": [
    {
     "data": {
      "text/plain": [
       "3125"
      ]
     },
     "execution_count": 39,
     "metadata": {},
     "output_type": "execute_result"
    }
   ],
   "source": [
    "# Exponent\n",
    "5**5"
   ]
  },
  {
   "cell_type": "code",
   "execution_count": 37,
   "id": "56a557ad-4cfa-463d-8bb3-a173b714e8e9",
   "metadata": {},
   "outputs": [
    {
     "data": {
      "text/plain": [
       "6"
      ]
     },
     "execution_count": 37,
     "metadata": {},
     "output_type": "execute_result"
    }
   ],
   "source": [
    "# Floor division : removes fractional part of result\n",
    "20//3"
   ]
  },
  {
   "cell_type": "code",
   "execution_count": 41,
   "id": "df53ffb9-81c1-4c0d-a536-c18f7cd66b11",
   "metadata": {},
   "outputs": [],
   "source": [
    "# Assignment Operator\n",
    "course = \"AI and Data Science\""
   ]
  },
  {
   "cell_type": "code",
   "execution_count": 43,
   "id": "c1b6694d-3a11-4ec9-b52d-6dfb4051c9e5",
   "metadata": {},
   "outputs": [
    {
     "data": {
      "text/plain": [
       "'AI and Data Science'"
      ]
     },
     "execution_count": 43,
     "metadata": {},
     "output_type": "execute_result"
    }
   ],
   "source": [
    "course"
   ]
  },
  {
   "cell_type": "code",
   "execution_count": 52,
   "id": "1afa3a8b-0f38-4ebc-83fa-3adc6cea42f1",
   "metadata": {},
   "outputs": [],
   "source": [
    "marks = 100\n",
    "obtained = 70"
   ]
  },
  {
   "cell_type": "code",
   "execution_count": 54,
   "id": "42cf27fb-808d-47c9-b879-a3e667c700d3",
   "metadata": {},
   "outputs": [
    {
     "data": {
      "text/plain": [
       "False"
      ]
     },
     "execution_count": 54,
     "metadata": {},
     "output_type": "execute_result"
    }
   ],
   "source": [
    "marks == obtained"
   ]
  },
  {
   "cell_type": "code",
   "execution_count": 56,
   "id": "f688899d-8e59-4760-8da2-8101ce2eb459",
   "metadata": {},
   "outputs": [
    {
     "data": {
      "text/plain": [
       "True"
      ]
     },
     "execution_count": 56,
     "metadata": {},
     "output_type": "execute_result"
    }
   ],
   "source": [
    "marks != obtained"
   ]
  },
  {
   "cell_type": "code",
   "execution_count": 58,
   "id": "69e31bf0-4197-4071-b515-60a28619d95e",
   "metadata": {},
   "outputs": [
    {
     "data": {
      "text/plain": [
       "True"
      ]
     },
     "execution_count": 58,
     "metadata": {},
     "output_type": "execute_result"
    }
   ],
   "source": [
    "marks > obtained"
   ]
  },
  {
   "cell_type": "code",
   "execution_count": 60,
   "id": "0e36cb7b-31e5-4dc5-a42c-ac5cbc088ce4",
   "metadata": {},
   "outputs": [
    {
     "data": {
      "text/plain": [
       "False"
      ]
     },
     "execution_count": 60,
     "metadata": {},
     "output_type": "execute_result"
    }
   ],
   "source": [
    "marks < obtained"
   ]
  },
  {
   "cell_type": "code",
   "execution_count": 62,
   "id": "b90b6765-1938-4acb-84d9-ca5452010de3",
   "metadata": {},
   "outputs": [
    {
     "data": {
      "text/plain": [
       "True"
      ]
     },
     "execution_count": 62,
     "metadata": {},
     "output_type": "execute_result"
    }
   ],
   "source": [
    "marks >= obtained"
   ]
  },
  {
   "cell_type": "code",
   "execution_count": 64,
   "id": "944e6a8f-615d-4f60-ade1-050d4a00054b",
   "metadata": {},
   "outputs": [
    {
     "data": {
      "text/plain": [
       "False"
      ]
     },
     "execution_count": 64,
     "metadata": {},
     "output_type": "execute_result"
    }
   ],
   "source": [
    "marks <= obtained"
   ]
  },
  {
   "cell_type": "markdown",
   "id": "da756a20-6e92-47d2-8bbc-45c35201a53a",
   "metadata": {},
   "source": [
    "# User input"
   ]
  },
  {
   "cell_type": "code",
   "execution_count": 65,
   "id": "da1eef7e-3824-4dc9-ba8a-407aa91ed7d3",
   "metadata": {},
   "outputs": [],
   "source": [
    "# input is a function, its input shall always be string"
   ]
  },
  {
   "cell_type": "code",
   "execution_count": 87,
   "id": "031dd20d-6afa-4335-bc32-af9d76d227d4",
   "metadata": {},
   "outputs": [
    {
     "name": "stdin",
     "output_type": "stream",
     "text": [
      "Please tell me your age 40\n"
     ]
    },
    {
     "data": {
      "text/plain": [
       "'40'"
      ]
     },
     "execution_count": 87,
     "metadata": {},
     "output_type": "execute_result"
    }
   ],
   "source": [
    "# Input function\n",
    "input(\"Please tell me your age\")"
   ]
  },
  {
   "cell_type": "code",
   "execution_count": 83,
   "id": "05b6edaa-69a7-4d78-ade2-1c7907723b5a",
   "metadata": {},
   "outputs": [
    {
     "name": "stdin",
     "output_type": "stream",
     "text": [
      "tell me your age 35\n"
     ]
    }
   ],
   "source": [
    "# Assign input value to a variable\n",
    "age = input(\"tell me your age\")"
   ]
  },
  {
   "cell_type": "code",
   "execution_count": 89,
   "id": "9f873805-71da-40b6-bf4b-2c16c19cd76f",
   "metadata": {},
   "outputs": [
    {
     "name": "stdout",
     "output_type": "stream",
     "text": [
      "35\n"
     ]
    }
   ],
   "source": [
    "# Print result\n",
    "print(age)"
   ]
  },
  {
   "cell_type": "code",
   "execution_count": 91,
   "id": "10711d49-711a-498f-bf2e-4e67dbf9f0d8",
   "metadata": {},
   "outputs": [
    {
     "data": {
      "text/plain": [
       "str"
      ]
     },
     "execution_count": 91,
     "metadata": {},
     "output_type": "execute_result"
    }
   ],
   "source": [
    "# Print type\n",
    "type(age)"
   ]
  },
  {
   "cell_type": "code",
   "execution_count": 98,
   "id": "0cedb383-5951-4218-aee2-8fc2c195f89e",
   "metadata": {},
   "outputs": [
    {
     "ename": "TypeError",
     "evalue": "can only concatenate str (not \"int\") to str",
     "output_type": "error",
     "traceback": [
      "\u001b[1;31m---------------------------------------------------------------------------\u001b[0m",
      "\u001b[1;31mTypeError\u001b[0m                                 Traceback (most recent call last)",
      "Cell \u001b[1;32mIn[98], line 2\u001b[0m\n\u001b[0;32m      1\u001b[0m \u001b[38;5;66;03m# Age can't be added to a number as its data type is string\u001b[39;00m\n\u001b[1;32m----> 2\u001b[0m age \u001b[38;5;241m+\u001b[39m \u001b[38;5;241m10\u001b[39m\n",
      "\u001b[1;31mTypeError\u001b[0m: can only concatenate str (not \"int\") to str"
     ]
    }
   ],
   "source": [
    "# Age can't be added to a number as its data type is string\n",
    "age + 10"
   ]
  },
  {
   "cell_type": "markdown",
   "id": "0aa9a94f-461e-40a5-b872-c6689f1b4965",
   "metadata": {},
   "source": [
    "# Type Casting"
   ]
  },
  {
   "cell_type": "code",
   "execution_count": 100,
   "id": "868df60c-2802-4db5-bc9b-8e86b56776cf",
   "metadata": {},
   "outputs": [
    {
     "data": {
      "text/plain": [
       "133"
      ]
     },
     "execution_count": 100,
     "metadata": {},
     "output_type": "execute_result"
    }
   ],
   "source": [
    "# Float to integer\n",
    "int(133.5)"
   ]
  },
  {
   "cell_type": "code",
   "execution_count": 102,
   "id": "69f47067-da07-4ce8-9d71-cbb46ee8cab4",
   "metadata": {},
   "outputs": [
    {
     "data": {
      "text/plain": [
       "12.0"
      ]
     },
     "execution_count": 102,
     "metadata": {},
     "output_type": "execute_result"
    }
   ],
   "source": [
    "# Integer to float\n",
    "float(12)"
   ]
  },
  {
   "cell_type": "code",
   "execution_count": 104,
   "id": "d362e46c-7901-4c72-b3f6-6b11633598f5",
   "metadata": {},
   "outputs": [
    {
     "data": {
      "text/plain": [
       "100"
      ]
     },
     "execution_count": 104,
     "metadata": {},
     "output_type": "execute_result"
    }
   ],
   "source": [
    "# String to integer\n",
    "int(\"100\")"
   ]
  },
  {
   "cell_type": "code",
   "execution_count": 106,
   "id": "28a2c406-9781-4b1c-ab73-626416a18bb9",
   "metadata": {},
   "outputs": [
    {
     "data": {
      "text/plain": [
       "'100'"
      ]
     },
     "execution_count": 106,
     "metadata": {},
     "output_type": "execute_result"
    }
   ],
   "source": [
    "# Integer to string\n",
    "str(100)"
   ]
  },
  {
   "cell_type": "markdown",
   "id": "2d7eb2af-9620-447e-b06b-9b73eee324b1",
   "metadata": {},
   "source": [
    "### Casting is only one step"
   ]
  },
  {
   "cell_type": "code",
   "execution_count": 108,
   "id": "1fe35594-ea01-4dad-b1d5-cd2f3a7ddc7b",
   "metadata": {},
   "outputs": [
    {
     "ename": "ValueError",
     "evalue": "invalid literal for int() with base 10: '12.5'",
     "output_type": "error",
     "traceback": [
      "\u001b[1;31m---------------------------------------------------------------------------\u001b[0m",
      "\u001b[1;31mValueError\u001b[0m                                Traceback (most recent call last)",
      "Cell \u001b[1;32mIn[108], line 3\u001b[0m\n\u001b[0;32m      1\u001b[0m \u001b[38;5;66;03m# Casting is only one step\u001b[39;00m\n\u001b[0;32m      2\u001b[0m \u001b[38;5;66;03m# In given exemple, first string is to be converted to float and then float to integer \u001b[39;00m\n\u001b[1;32m----> 3\u001b[0m \u001b[38;5;28mint\u001b[39m(\u001b[38;5;124m\"\u001b[39m\u001b[38;5;124m12.5\u001b[39m\u001b[38;5;124m\"\u001b[39m)\n",
      "\u001b[1;31mValueError\u001b[0m: invalid literal for int() with base 10: '12.5'"
     ]
    }
   ],
   "source": [
    "# Casting is only one step\n",
    "# In given exemple, first string is to be converted to float and then float to integer \n",
    "int(\"12.5\")"
   ]
  },
  {
   "cell_type": "code",
   "execution_count": 118,
   "id": "11983165-c30b-4023-a3ee-a812e19981de",
   "metadata": {},
   "outputs": [
    {
     "data": {
      "text/plain": [
       "12.5"
      ]
     },
     "execution_count": 118,
     "metadata": {},
     "output_type": "execute_result"
    }
   ],
   "source": [
    "# Single casting\n",
    "float(\"12.5\")"
   ]
  },
  {
   "cell_type": "code",
   "execution_count": 120,
   "id": "0618809e-815a-4327-bac0-9692d4222ffb",
   "metadata": {},
   "outputs": [
    {
     "data": {
      "text/plain": [
       "12"
      ]
     },
     "execution_count": 120,
     "metadata": {},
     "output_type": "execute_result"
    }
   ],
   "source": [
    "# Single casting\n",
    "int(12.5)"
   ]
  },
  {
   "cell_type": "code",
   "execution_count": 116,
   "id": "977f2281-44ad-4d25-8e61-cd4c8db5af13",
   "metadata": {},
   "outputs": [
    {
     "data": {
      "text/plain": [
       "20"
      ]
     },
     "execution_count": 116,
     "metadata": {},
     "output_type": "execute_result"
    }
   ],
   "source": [
    "# Double casting\n",
    "int(float(\"20.25\"))"
   ]
  },
  {
   "cell_type": "code",
   "execution_count": 144,
   "id": "38807d32-47b8-457b-91a8-ec74487ecdc4",
   "metadata": {},
   "outputs": [
    {
     "name": "stdin",
     "output_type": "stream",
     "text": [
      "Please enter your age 40\n"
     ]
    },
    {
     "data": {
      "text/plain": [
       "50"
      ]
     },
     "execution_count": 144,
     "metadata": {},
     "output_type": "execute_result"
    }
   ],
   "source": [
    "# Input and casting togeather\n",
    "age = int(input(\"Please enter your age\"))\n",
    "age + 10"
   ]
  },
  {
   "cell_type": "code",
   "execution_count": 150,
   "id": "e41041a2-0a85-4e7e-a617-ffef43dfd745",
   "metadata": {},
   "outputs": [],
   "source": [
    "age = age + 10"
   ]
  },
  {
   "cell_type": "code",
   "execution_count": 152,
   "id": "40faf331-eea2-4ba9-a037-43a130f2fb77",
   "metadata": {},
   "outputs": [
    {
     "name": "stdout",
     "output_type": "stream",
     "text": [
      "60\n"
     ]
    }
   ],
   "source": [
    "print(age)"
   ]
  },
  {
   "cell_type": "markdown",
   "id": "4b0607a2-e38b-49ff-bce8-fd665100870e",
   "metadata": {},
   "source": [
    "### Increament / Decreament Operators"
   ]
  },
  {
   "cell_type": "code",
   "execution_count": 181,
   "id": "4b15d439-70b6-4d45-a95f-8bbda23d7671",
   "metadata": {},
   "outputs": [],
   "source": [
    "count = 1"
   ]
  },
  {
   "cell_type": "code",
   "execution_count": 183,
   "id": "577af338-8709-47c8-b5ce-1dd8bf03565f",
   "metadata": {},
   "outputs": [
    {
     "data": {
      "text/plain": [
       "2"
      ]
     },
     "execution_count": 183,
     "metadata": {},
     "output_type": "execute_result"
    }
   ],
   "source": [
    "count = count + 1\n",
    "count"
   ]
  },
  {
   "cell_type": "code",
   "execution_count": 191,
   "id": "2ae5e0e7-d06b-4395-a53d-4556e9b9bd6d",
   "metadata": {},
   "outputs": [],
   "source": [
    "count1 = 1"
   ]
  },
  {
   "cell_type": "code",
   "execution_count": 193,
   "id": "ca104149-22bc-4b50-8faa-3547b1f46868",
   "metadata": {},
   "outputs": [
    {
     "data": {
      "text/plain": [
       "2"
      ]
     },
     "execution_count": 193,
     "metadata": {},
     "output_type": "execute_result"
    }
   ],
   "source": [
    "count1 += 1\n",
    "count1"
   ]
  },
  {
   "cell_type": "code",
   "execution_count": 173,
   "id": "2c132901-4c01-4525-8393-a76ecf2dc179",
   "metadata": {},
   "outputs": [
    {
     "data": {
      "text/plain": [
       "2"
      ]
     },
     "execution_count": 173,
     "metadata": {},
     "output_type": "execute_result"
    }
   ],
   "source": [
    "count -= 5\n",
    "count"
   ]
  },
  {
   "cell_type": "markdown",
   "id": "729a024e-56fe-4068-98b9-826271136d9e",
   "metadata": {},
   "source": [
    "### Assignment 01\n",
    "- Paste a Raw paragraph\n",
    "- Make all possible variables\n",
    "- Use type casting as required"
   ]
  },
  {
   "cell_type": "raw",
   "id": "247c8028-2511-4065-aee1-7dc20623639c",
   "metadata": {},
   "source": [
    "Khan was born in Lahore on 5 October 1952. Though some sources state he was born on 25 November 1952, Khan has said that this mistake stemmed from that date being written erroneously on his passport. He is the only son of Ikramullah Khan Niazi, a civil engineer, and his wife Shaukat Khanum, and has four sisters."
   ]
  },
  {
   "cell_type": "code",
   "execution_count": 216,
   "id": "e727b18d-0760-494c-ab6f-c6bbee7df41b",
   "metadata": {},
   "outputs": [],
   "source": [
    "name = \"Imran Khan\"\n",
    "DOB = int(\"1952\")\n",
    "Citizenship = \"Pakistani\"\n",
    "Profession1 = \"Crickter\"\n",
    "Profession2 = \"Politician\"\n",
    "age = 2024 - DOB"
   ]
  },
  {
   "cell_type": "code",
   "execution_count": 212,
   "id": "6eb1d286-c4ed-4398-b039-586fe59a8611",
   "metadata": {},
   "outputs": [
    {
     "data": {
      "text/plain": [
       "72"
      ]
     },
     "execution_count": 212,
     "metadata": {},
     "output_type": "execute_result"
    }
   ],
   "source": [
    "age"
   ]
  }
 ],
 "metadata": {
  "kernelspec": {
   "display_name": "Python 3 (ipykernel)",
   "language": "python",
   "name": "python3"
  },
  "language_info": {
   "codemirror_mode": {
    "name": "ipython",
    "version": 3
   },
   "file_extension": ".py",
   "mimetype": "text/x-python",
   "name": "python",
   "nbconvert_exporter": "python",
   "pygments_lexer": "ipython3",
   "version": "3.12.7"
  }
 },
 "nbformat": 4,
 "nbformat_minor": 5
}
