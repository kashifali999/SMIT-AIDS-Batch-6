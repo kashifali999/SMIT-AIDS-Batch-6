{
 "cells": [
  {
   "cell_type": "markdown",
   "id": "b9434028-8d88-4071-938d-8f6874c557ac",
   "metadata": {},
   "source": [
    "# List Functions / Methods"
   ]
  },
  {
   "cell_type": "code",
   "execution_count": 114,
   "id": "c75a32b4-ceba-42e2-a945-5f4b66e05b5b",
   "metadata": {},
   "outputs": [],
   "source": [
    "students = ['Kashif','Ali','Rashid','Shoaib','Muhammad','Ahmad','Abdullah','Abdulrehman','Mehmood']"
   ]
  },
  {
   "cell_type": "code",
   "execution_count": 116,
   "id": "abc73bd2-f3d5-4119-9d26-9fd3067e5cc3",
   "metadata": {},
   "outputs": [],
   "source": [
    "students.append(\"NewMember\")"
   ]
  },
  {
   "cell_type": "code",
   "execution_count": 118,
   "id": "39cb21b4-fb38-4f3f-8b9c-cf9480726699",
   "metadata": {},
   "outputs": [
    {
     "name": "stdout",
     "output_type": "stream",
     "text": [
      "['Kashif', 'Ali', 'Rashid', 'Shoaib', 'Muhammad', 'Ahmad', 'Abdullah', 'Abdulrehman', 'Mehmood', 'NewMember']\n"
     ]
    }
   ],
   "source": [
    "print(students)"
   ]
  },
  {
   "cell_type": "code",
   "execution_count": 120,
   "id": "2f5dc92f-46e1-4bb6-bcb8-a3e7a4857990",
   "metadata": {},
   "outputs": [],
   "source": [
    "students.insert(20, \"Falana\")"
   ]
  },
  {
   "cell_type": "code",
   "execution_count": 122,
   "id": "d0f43aeb-cbb5-42a8-bc17-9ddc9b0a6592",
   "metadata": {},
   "outputs": [
    {
     "name": "stdout",
     "output_type": "stream",
     "text": [
      "['Kashif', 'Ali', 'Rashid', 'Shoaib', 'Muhammad', 'Ahmad', 'Abdullah', 'Abdulrehman', 'Mehmood', 'NewMember', 'Falana']\n"
     ]
    }
   ],
   "source": [
    "print(students)"
   ]
  },
  {
   "cell_type": "code",
   "execution_count": 124,
   "id": "e3730def-589e-40d0-80ad-846c3f0603fc",
   "metadata": {},
   "outputs": [],
   "source": [
    "students.extend([\"A\",\"E\",\"I\",\"O\",\"U\"])"
   ]
  },
  {
   "cell_type": "code",
   "execution_count": 126,
   "id": "8ad7ba58-d808-46f4-9505-4d2154a59318",
   "metadata": {},
   "outputs": [
    {
     "name": "stdout",
     "output_type": "stream",
     "text": [
      "['Kashif', 'Ali', 'Rashid', 'Shoaib', 'Muhammad', 'Ahmad', 'Abdullah', 'Abdulrehman', 'Mehmood', 'NewMember', 'Falana', 'A', 'E', 'I', 'O', 'U']\n"
     ]
    }
   ],
   "source": [
    "print(students)"
   ]
  },
  {
   "cell_type": "code",
   "execution_count": 128,
   "id": "b17e3ce6-7ec4-481a-8d52-7a1c64e8e140",
   "metadata": {},
   "outputs": [],
   "source": [
    "staff = [\"Murad\", \"Kaleem\", \"Masoom\"]"
   ]
  },
  {
   "cell_type": "code",
   "execution_count": 130,
   "id": "bb4907bc-8b1c-48e4-ae61-dd274cf6fa4d",
   "metadata": {},
   "outputs": [],
   "source": [
    "students.append(staff)"
   ]
  },
  {
   "cell_type": "code",
   "execution_count": 132,
   "id": "1c6b71c8-c711-4189-b87c-babb3ed00cb5",
   "metadata": {},
   "outputs": [
    {
     "name": "stdout",
     "output_type": "stream",
     "text": [
      "['Kashif', 'Ali', 'Rashid', 'Shoaib', 'Muhammad', 'Ahmad', 'Abdullah', 'Abdulrehman', 'Mehmood', 'NewMember', 'Falana', 'A', 'E', 'I', 'O', 'U', ['Murad', 'Kaleem', 'Masoom']]\n"
     ]
    }
   ],
   "source": [
    "print(students)"
   ]
  },
  {
   "cell_type": "code",
   "execution_count": 134,
   "id": "f1a93a85-7afa-4487-8403-dbce83aa43e4",
   "metadata": {},
   "outputs": [],
   "source": [
    "students.extend(staff)"
   ]
  },
  {
   "cell_type": "code",
   "execution_count": 111,
   "id": "8525c3d2-fb40-45fe-b623-12a3568da8d0",
   "metadata": {},
   "outputs": [
    {
     "data": {
      "text/plain": [
       "['Kashif',\n",
       " 'Ali',\n",
       " 'Rashid',\n",
       " 'Shoaib',\n",
       " 'Muhammad',\n",
       " 'Ahmad',\n",
       " 'Abdullah',\n",
       " 'Abdulrehman',\n",
       " 'Mehmood',\n",
       " 'Murad',\n",
       " 'Kaleem',\n",
       " 'Masoom']"
      ]
     },
     "execution_count": 111,
     "metadata": {},
     "output_type": "execute_result"
    }
   ],
   "source": [
    "students"
   ]
  },
  {
   "cell_type": "code",
   "execution_count": 136,
   "id": "5f546231-d529-4238-ab1f-734e1660abee",
   "metadata": {},
   "outputs": [],
   "source": [
    "students.extend(\"Hello\")"
   ]
  },
  {
   "cell_type": "code",
   "execution_count": 138,
   "id": "a47e04b3-3c1b-4cf7-bdaa-db64a3a87304",
   "metadata": {},
   "outputs": [
    {
     "name": "stdout",
     "output_type": "stream",
     "text": [
      "['Kashif', 'Ali', 'Rashid', 'Shoaib', 'Muhammad', 'Ahmad', 'Abdullah', 'Abdulrehman', 'Mehmood', 'NewMember', 'Falana', 'A', 'E', 'I', 'O', 'U', ['Murad', 'Kaleem', 'Masoom'], 'Murad', 'Kaleem', 'Masoom', 'H', 'e', 'l', 'l', 'o']\n"
     ]
    }
   ],
   "source": [
    "print(students)"
   ]
  },
  {
   "cell_type": "code",
   "execution_count": 140,
   "id": "cc4cd375-832d-4c27-a42c-8cbc92db3bca",
   "metadata": {},
   "outputs": [
    {
     "data": {
      "text/plain": [
       "['Kashif',\n",
       " 'Ali',\n",
       " 'Rashid',\n",
       " 'Shoaib',\n",
       " 'Muhammad',\n",
       " 'Ahmad',\n",
       " 'Abdullah',\n",
       " 'Abdulrehman',\n",
       " 'Mehmood',\n",
       " 'NewMember',\n",
       " 'Falana',\n",
       " 'A',\n",
       " 'E',\n",
       " 'I',\n",
       " 'O',\n",
       " 'U',\n",
       " ['Murad', 'Kaleem', 'Masoom'],\n",
       " 'Murad',\n",
       " 'Kaleem',\n",
       " 'Masoom',\n",
       " 'H',\n",
       " 'e',\n",
       " 'l',\n",
       " 'l',\n",
       " 'o',\n",
       " 'Murad',\n",
       " 'Kaleem',\n",
       " 'Masoom']"
      ]
     },
     "execution_count": 140,
     "metadata": {},
     "output_type": "execute_result"
    }
   ],
   "source": [
    "students + staff"
   ]
  },
  {
   "cell_type": "code",
   "execution_count": 142,
   "id": "ee91839b-a99a-40b1-a2b8-caa583f77f1b",
   "metadata": {},
   "outputs": [
    {
     "name": "stdout",
     "output_type": "stream",
     "text": [
      "['Kashif', 'Ali', 'Rashid', 'Shoaib', 'Muhammad', 'Ahmad', 'Abdullah', 'Abdulrehman', 'Mehmood', 'NewMember', 'Falana', 'A', 'E', 'I', 'O', 'U', ['Murad', 'Kaleem', 'Masoom'], 'Murad', 'Kaleem', 'Masoom', 'H', 'e', 'l', 'l', 'o', 'Murad', 'Kaleem', 'Masoom']\n"
     ]
    }
   ],
   "source": [
    "print(students + staff)"
   ]
  },
  {
   "cell_type": "code",
   "execution_count": 144,
   "id": "cc3b9550-8b0c-44b9-84b5-b9d596120658",
   "metadata": {},
   "outputs": [],
   "source": [
    "fruite = \"banana\""
   ]
  },
  {
   "cell_type": "code",
   "execution_count": 146,
   "id": "3a06d0e2-8a1b-4bfd-83a4-3929b363a9f2",
   "metadata": {},
   "outputs": [
    {
     "data": {
      "text/plain": [
       "'banana'"
      ]
     },
     "execution_count": 146,
     "metadata": {},
     "output_type": "execute_result"
    }
   ],
   "source": [
    "fruite"
   ]
  },
  {
   "cell_type": "code",
   "execution_count": 148,
   "id": "4a69ada2-5418-46e9-8b34-7909dad93809",
   "metadata": {},
   "outputs": [],
   "source": [
    "del fruite"
   ]
  },
  {
   "cell_type": "code",
   "execution_count": 150,
   "id": "36a81e41-6f18-4f28-af4c-d1fa0b878d93",
   "metadata": {},
   "outputs": [
    {
     "ename": "NameError",
     "evalue": "name 'fruite' is not defined",
     "output_type": "error",
     "traceback": [
      "\u001b[1;31m---------------------------------------------------------------------------\u001b[0m",
      "\u001b[1;31mNameError\u001b[0m                                 Traceback (most recent call last)",
      "Cell \u001b[1;32mIn[150], line 1\u001b[0m\n\u001b[1;32m----> 1\u001b[0m fruite\n",
      "\u001b[1;31mNameError\u001b[0m: name 'fruite' is not defined"
     ]
    }
   ],
   "source": [
    "fruite"
   ]
  },
  {
   "cell_type": "markdown",
   "id": "1a6a89b5-dc58-4c73-8b88-d1ea5b06314c",
   "metadata": {},
   "source": [
    "#### Deletion"
   ]
  },
  {
   "cell_type": "code",
   "execution_count": 241,
   "id": "9c3f2cbd-189e-4128-b549-c489907957ec",
   "metadata": {},
   "outputs": [],
   "source": [
    "students2 = ['Kashif','Ali','Rashid','Shoaib','Muhammad','Ahmad','Abdullah','Abdulrehman','Mehmood']"
   ]
  },
  {
   "cell_type": "code",
   "execution_count": 243,
   "id": "fd80aa97-69b1-4dee-938c-12f6d0544a5d",
   "metadata": {},
   "outputs": [],
   "source": [
    "del students2[-1]"
   ]
  },
  {
   "cell_type": "code",
   "execution_count": 245,
   "id": "9a3dbd1b-96c1-4089-8cd5-20805feb781e",
   "metadata": {},
   "outputs": [
    {
     "name": "stdout",
     "output_type": "stream",
     "text": [
      "['Kashif', 'Ali', 'Rashid', 'Shoaib', 'Muhammad', 'Ahmad', 'Abdullah', 'Abdulrehman']\n"
     ]
    }
   ],
   "source": [
    "print(students2)"
   ]
  },
  {
   "cell_type": "code",
   "execution_count": 247,
   "id": "6ec1caaa-6c11-4336-b205-49063dd13cab",
   "metadata": {},
   "outputs": [],
   "source": [
    "students2.remove(\"Rashid\")"
   ]
  },
  {
   "cell_type": "code",
   "execution_count": 249,
   "id": "51b33e16-0abd-4556-b953-e8523ab5c5f8",
   "metadata": {},
   "outputs": [
    {
     "data": {
      "text/plain": [
       "['Kashif', 'Ali', 'Shoaib', 'Muhammad', 'Ahmad', 'Abdullah', 'Abdulrehman']"
      ]
     },
     "execution_count": 249,
     "metadata": {},
     "output_type": "execute_result"
    }
   ],
   "source": [
    "students2"
   ]
  },
  {
   "cell_type": "code",
   "execution_count": 251,
   "id": "1b738750-8512-4ff0-80a8-826964e53b7d",
   "metadata": {},
   "outputs": [
    {
     "data": {
      "text/plain": [
       "'Abdulrehman'"
      ]
     },
     "execution_count": 251,
     "metadata": {},
     "output_type": "execute_result"
    }
   ],
   "source": [
    "students2.pop()"
   ]
  },
  {
   "cell_type": "code",
   "execution_count": 253,
   "id": "236c12e7-54c6-44e5-8a54-b6375c58323a",
   "metadata": {},
   "outputs": [
    {
     "data": {
      "text/plain": [
       "['Kashif', 'Ali', 'Shoaib', 'Muhammad', 'Ahmad', 'Abdullah']"
      ]
     },
     "execution_count": 253,
     "metadata": {},
     "output_type": "execute_result"
    }
   ],
   "source": [
    "students2"
   ]
  },
  {
   "cell_type": "code",
   "execution_count": 255,
   "id": "8bef8724-3a9e-49aa-8caa-426d1dc88a87",
   "metadata": {},
   "outputs": [],
   "source": [
    "deleted_values = students2.pop()"
   ]
  },
  {
   "cell_type": "code",
   "execution_count": 257,
   "id": "36e99854-9fe8-4d73-b080-2251b3b18f03",
   "metadata": {},
   "outputs": [
    {
     "data": {
      "text/plain": [
       "'Abdullah'"
      ]
     },
     "execution_count": 257,
     "metadata": {},
     "output_type": "execute_result"
    }
   ],
   "source": [
    "deleted_values"
   ]
  },
  {
   "cell_type": "code",
   "execution_count": 259,
   "id": "c0f512ce-5eca-47cb-a5e3-f566a2d9d73b",
   "metadata": {},
   "outputs": [
    {
     "data": {
      "text/plain": [
       "'Kashif'"
      ]
     },
     "execution_count": 259,
     "metadata": {},
     "output_type": "execute_result"
    }
   ],
   "source": [
    "students2.pop(0)"
   ]
  },
  {
   "cell_type": "code",
   "execution_count": 267,
   "id": "9b5fd35a-e1b0-4432-8f68-ea7a6aefa5d0",
   "metadata": {},
   "outputs": [
    {
     "data": {
      "text/plain": [
       "['Ali', 'Shoaib', 'Muhammad', 'Ahmad']"
      ]
     },
     "execution_count": 267,
     "metadata": {},
     "output_type": "execute_result"
    }
   ],
   "source": [
    "students2"
   ]
  },
  {
   "cell_type": "code",
   "execution_count": 269,
   "id": "f73556bb-1d8d-4f2b-bd78-99842aee7d0a",
   "metadata": {},
   "outputs": [
    {
     "ename": "TypeError",
     "evalue": "'builtin_function_or_method' object is not subscriptable",
     "output_type": "error",
     "traceback": [
      "\u001b[1;31m---------------------------------------------------------------------------\u001b[0m",
      "\u001b[1;31mTypeError\u001b[0m                                 Traceback (most recent call last)",
      "Cell \u001b[1;32mIn[269], line 1\u001b[0m\n\u001b[1;32m----> 1\u001b[0m students2\u001b[38;5;241m.\u001b[39mpop[\u001b[38;5;241m1\u001b[39m:\u001b[38;5;241m2\u001b[39m]\n",
      "\u001b[1;31mTypeError\u001b[0m: 'builtin_function_or_method' object is not subscriptable"
     ]
    }
   ],
   "source": [
    "students2.pop[1:2]"
   ]
  },
  {
   "cell_type": "code",
   "execution_count": 329,
   "id": "69e99a39-8aab-4b83-80a5-192916571388",
   "metadata": {},
   "outputs": [],
   "source": [
    "students3 = ['Kashif','Ali','Rashid','Shoaib','Muhammad','Ahmad','Abdullah','Abdulrehman','Mehmood']"
   ]
  },
  {
   "cell_type": "code",
   "execution_count": 331,
   "id": "2c5c5262-1cf4-432d-b9fb-23660790020d",
   "metadata": {},
   "outputs": [
    {
     "name": "stdout",
     "output_type": "stream",
     "text": [
      "['Kashif', 'Ali', 'Rashid', 'Shoaib', 'Muhammad', 'Ahmad', 'Abdullah', 'Abdulrehman', 'Mehmood']\n"
     ]
    }
   ],
   "source": [
    "print(students3)"
   ]
  },
  {
   "cell_type": "code",
   "execution_count": 333,
   "id": "e45cdf1f-5701-439a-b993-f53b84b0b970",
   "metadata": {},
   "outputs": [],
   "source": [
    "del students3[2:5]"
   ]
  },
  {
   "cell_type": "code",
   "execution_count": 335,
   "id": "ffecb67b-621e-42ff-9514-e70f1c126f0c",
   "metadata": {},
   "outputs": [
    {
     "data": {
      "text/plain": [
       "['Kashif', 'Ali', 'Ahmad', 'Abdullah', 'Abdulrehman', 'Mehmood']"
      ]
     },
     "execution_count": 335,
     "metadata": {},
     "output_type": "execute_result"
    }
   ],
   "source": [
    "students3"
   ]
  },
  {
   "cell_type": "code",
   "execution_count": 337,
   "id": "848b6d18-3f72-44a4-adbf-ef0413778b2e",
   "metadata": {},
   "outputs": [
    {
     "data": {
      "text/plain": [
       "['Kashif', 'Ali', 'Ahmad', 'Abdullah', 'Abdulrehman', 'Mehmood']"
      ]
     },
     "execution_count": 337,
     "metadata": {},
     "output_type": "execute_result"
    }
   ],
   "source": [
    "students3"
   ]
  },
  {
   "cell_type": "code",
   "execution_count": 339,
   "id": "e57c49a4-09dc-42af-838f-ee22829d2acb",
   "metadata": {},
   "outputs": [],
   "source": [
    "# students3.clear()"
   ]
  },
  {
   "cell_type": "code",
   "execution_count": 341,
   "id": "c1dfcb3a-d793-4994-ba82-7c9c4b3b3781",
   "metadata": {},
   "outputs": [
    {
     "data": {
      "text/plain": [
       "['Kashif', 'Ali', 'Ahmad', 'Abdullah', 'Abdulrehman', 'Mehmood']"
      ]
     },
     "execution_count": 341,
     "metadata": {},
     "output_type": "execute_result"
    }
   ],
   "source": [
    "students3"
   ]
  },
  {
   "cell_type": "code",
   "execution_count": 347,
   "id": "e3c8f17b-2690-43bf-ad0e-68dd3716a0b0",
   "metadata": {},
   "outputs": [
    {
     "data": {
      "text/plain": [
       "0"
      ]
     },
     "execution_count": 347,
     "metadata": {},
     "output_type": "execute_result"
    }
   ],
   "source": [
    "students3.count(\"Ahma\")"
   ]
  },
  {
   "cell_type": "code",
   "execution_count": 353,
   "id": "b2e5254f-aedd-4ce6-87a6-c545898be11d",
   "metadata": {},
   "outputs": [
    {
     "data": {
      "text/plain": [
       "5"
      ]
     },
     "execution_count": 353,
     "metadata": {},
     "output_type": "execute_result"
    }
   ],
   "source": [
    "students3.index(\"Mehmood\")"
   ]
  },
  {
   "cell_type": "code",
   "execution_count": 355,
   "id": "7649d171-3c8e-4b21-826b-037763ef2adf",
   "metadata": {},
   "outputs": [
    {
     "data": {
      "text/plain": [
       "['Kashif', 'Ali', 'Ahmad', 'Abdullah', 'Abdulrehman', 'Mehmood']"
      ]
     },
     "execution_count": 355,
     "metadata": {},
     "output_type": "execute_result"
    }
   ],
   "source": [
    "students3"
   ]
  },
  {
   "cell_type": "code",
   "execution_count": 357,
   "id": "4efe9da7-2c1d-4c74-80ea-33752d88cec7",
   "metadata": {},
   "outputs": [],
   "source": [
    "students3.sort()"
   ]
  },
  {
   "cell_type": "code",
   "execution_count": 359,
   "id": "be682a8f-a19a-436a-8d49-51cd61bd2350",
   "metadata": {},
   "outputs": [
    {
     "data": {
      "text/plain": [
       "['Abdullah', 'Abdulrehman', 'Ahmad', 'Ali', 'Kashif', 'Mehmood']"
      ]
     },
     "execution_count": 359,
     "metadata": {},
     "output_type": "execute_result"
    }
   ],
   "source": [
    "students3"
   ]
  },
  {
   "cell_type": "code",
   "execution_count": 361,
   "id": "e6f2a8a2-6df4-4c2e-b4f1-b2afb30c4009",
   "metadata": {},
   "outputs": [],
   "source": [
    "students3.reverse()"
   ]
  },
  {
   "cell_type": "code",
   "execution_count": 363,
   "id": "2f9ca579-3781-4f61-aa50-5b78ee2f2f0f",
   "metadata": {},
   "outputs": [
    {
     "data": {
      "text/plain": [
       "['Mehmood', 'Kashif', 'Ali', 'Ahmad', 'Abdulrehman', 'Abdullah']"
      ]
     },
     "execution_count": 363,
     "metadata": {},
     "output_type": "execute_result"
    }
   ],
   "source": [
    "students3"
   ]
  },
  {
   "cell_type": "code",
   "execution_count": 369,
   "id": "15a2ad94-57e3-4269-88ca-2cefa5d3c853",
   "metadata": {},
   "outputs": [
    {
     "data": {
      "text/plain": [
       "'F'"
      ]
     },
     "execution_count": 369,
     "metadata": {},
     "output_type": "execute_result"
    }
   ],
   "source": [
    "chr(70)"
   ]
  },
  {
   "cell_type": "code",
   "execution_count": 379,
   "id": "0d31ea5d-1fdc-44a5-9141-4d7c3f161e4f",
   "metadata": {},
   "outputs": [
    {
     "data": {
      "text/plain": [
       "70"
      ]
     },
     "execution_count": 379,
     "metadata": {},
     "output_type": "execute_result"
    }
   ],
   "source": [
    "ord(\"F\")"
   ]
  },
  {
   "cell_type": "code",
   "execution_count": 381,
   "id": "5f888f09-5f71-4173-b494-ebd636ba0e6b",
   "metadata": {},
   "outputs": [
    {
     "data": {
      "text/plain": [
       "['Mehmood', 'Kashif', 'Ali', 'Ahmad', 'Abdulrehman', 'Abdullah']"
      ]
     },
     "execution_count": 381,
     "metadata": {},
     "output_type": "execute_result"
    }
   ],
   "source": [
    "students3"
   ]
  },
  {
   "cell_type": "code",
   "execution_count": 383,
   "id": "dd64a87c-62a5-4646-b4bd-f4ca63155e21",
   "metadata": {},
   "outputs": [],
   "source": [
    "newCopy = students3.copy()"
   ]
  },
  {
   "cell_type": "code",
   "execution_count": 385,
   "id": "8cbf1368-da6e-491e-800f-47da6d9fb69b",
   "metadata": {},
   "outputs": [
    {
     "data": {
      "text/plain": [
       "['Mehmood', 'Kashif', 'Ali', 'Ahmad', 'Abdulrehman', 'Abdullah']"
      ]
     },
     "execution_count": 385,
     "metadata": {},
     "output_type": "execute_result"
    }
   ],
   "source": [
    "newCopy"
   ]
  },
  {
   "cell_type": "code",
   "execution_count": 387,
   "id": "f46a1917-b06c-4902-8c3f-cecc731ce1e8",
   "metadata": {},
   "outputs": [
    {
     "data": {
      "text/plain": [
       "1434657682880"
      ]
     },
     "execution_count": 387,
     "metadata": {},
     "output_type": "execute_result"
    }
   ],
   "source": [
    "id(newCopy)"
   ]
  },
  {
   "cell_type": "code",
   "execution_count": 389,
   "id": "5a960334-7019-46ac-bb52-4ff1bd64a590",
   "metadata": {},
   "outputs": [
    {
     "data": {
      "text/plain": [
       "1434651199104"
      ]
     },
     "execution_count": 389,
     "metadata": {},
     "output_type": "execute_result"
    }
   ],
   "source": [
    "id(students3)"
   ]
  },
  {
   "cell_type": "code",
   "execution_count": null,
   "id": "19d09f2f-625f-47f7-b408-316c43dbb408",
   "metadata": {},
   "outputs": [],
   "source": []
  }
 ],
 "metadata": {
  "kernelspec": {
   "display_name": "Python 3 (ipykernel)",
   "language": "python",
   "name": "python3"
  },
  "language_info": {
   "codemirror_mode": {
    "name": "ipython",
    "version": 3
   },
   "file_extension": ".py",
   "mimetype": "text/x-python",
   "name": "python",
   "nbconvert_exporter": "python",
   "pygments_lexer": "ipython3",
   "version": "3.12.7"
  }
 },
 "nbformat": 4,
 "nbformat_minor": 5
}
